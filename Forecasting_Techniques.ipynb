{
 "cells": [
  {
   "cell_type": "markdown",
   "metadata": {
    "slideshow": {
     "slide_type": "slide"
    }
   },
   "source": [
    "# MACHINE LEARNING FOR TIME SERIES FORECASTING \n",
    "# APPLICATION ON SOLAR IRRADIANCE\n",
    "\n",
    "## Plan\n",
    "### 1- Introduction\n",
    "### 2- Classical methodes for forecasting\n",
    "### 3- Maching learning\n",
    "### 4- Conclusion"
   ]
  },
  {
   "cell_type": "markdown",
   "metadata": {
    "slideshow": {
     "slide_type": "slide"
    }
   },
   "source": [
    "# 1- Introduction\n",
    "### 1-1 Time series definition \n",
    "\n",
    "Time series is a set of observations which are distinguished by the particular role played by the order (chronology) in which they were collected: they are observations made at fixed intervals $ h $, at time $ t_ {0 }, t_ {0} + h, ..., t_ {0} + (n - 1) h $.\n",
    "\n",
    "A time series follows the following pattern:\n",
    "\t\n",
    "\\begin{matrix}\n",
    "t_{0}     &   t_{0} + h   & ... & t_{0} + (n - 1)h     \\\\\n",
    "\\downarrow   &   \\downarrow    & ... & \\downarrow             \\\\\n",
    "Y_{t_{0}} & Y_{t_{0}+h}   & ... & Y_{t_{0}+(n - 1)h} \\\\\n",
    "\\downarrow  &   \\downarrow    & ... & \\downarrow             \\\\\n",
    "Y_{1}     &     Y_{2}     & ... & Y_{n}                \\\\\n",
    "\\end{matrix}\n",
    "\n",
    "The prediction of a time series at time $n + h$ is denoted $\\hat{Y}_{n}(h)$ and, in general, is different from the real value $Y_{n + h}$.   \n",
    "To measure this difference, we will define the __forecast error__ by the difference $Y_{n+h} - \\hat{Y}_{n}(h) := e(h)$\n",
    "\n",
    "### 1-2 What do we want to do with it?\n",
    "\n",
    "The study of time series may have the following non-exclusive objectives:\n",
    "\n",
    "- Understanding the past: explaining the variations observed.\n",
    "- Study the link with other series.\n",
    "- Predict future (near) values.\n",
    "\n",
    "### 1-3 Into solar energy forecasting\n",
    "\n",
    "- The global situation of climate change is becoming increasingly serious as a result of global warming.\n",
    "\t\n",
    "- The integration of solar energy into electricity networks requires reliable forecast information of solar resources. \n",
    "\t\n",
    "- The goal from forecasting solar energy is to quantify the available energy and allowing it to optimally manage the transition between intermittent and conventional energies."
   ]
  },
  {
   "cell_type": "markdown",
   "metadata": {
    "slideshow": {
     "slide_type": "slide"
    }
   },
   "source": [
    "# 2- Classical methodes for forecasting\n",
    "\n",
    "Machine learning methods can be used for classification and forecasting on time series problems.\n",
    "\n",
    "Before exploring machine learning methods for time series, it is a good idea to ensure you have exhausted classical linear time series forecasting methods. Classical time series forecasting methods may be focused on linear relationships, nevertheless, they are sophisticated and perform well on a wide range of problems, assuming that your data is suitably prepared and the method is well configured.\n",
    "\n",
    "This part is structured as a cheat sheet to give you just enough information on each method to get started with a working code example. And all code examples are in Python and use the Statsmodels library (for this part).\n",
    "\n",
    "### Overview \n",
    "\n",
    "This cheat sheet demonstrates 8 different classical time series forecasting methods; they are:\n",
    "\n",
    "1. Autoregression (AR)\n",
    "2. Moving Average (MA)\n",
    "3. Autoregressive Moving Average (ARMA)\n",
    "4. Autoregressive Integrated Moving Average (ARIMA)\n",
    "5. Seasonal Autoregressive Integrated Moving-Average (SARIMA)\n",
    "6. Simple Exponential Smoothing (SES)\n",
    "7. Holt's Exponential Smoothing (HES)\n",
    "8. Holt Winter’s Exponential Smoothing (HWES)\n",
    "\n",
    "Each method is presented in a consistent manner.\n",
    "\n",
    "This includes:\n",
    "\n",
    "__Description:__ A short and precise description of the technique.  \n",
    "__Python Code:__ A short working example of fitting the model and making a prediction in Python.\n"
   ]
  },
  {
   "cell_type": "markdown",
   "metadata": {
    "slideshow": {
     "slide_type": "slide"
    }
   },
   "source": [
    "### Dataset \n",
    "Before we start descriping the classical models, first I want to load the data that we are going to use as an exemple.   \n",
    "Note that all these methods need to be tuned for optimal results.\n",
    "\n",
    "For this part we will be using the daily cases of Corona virus in Morocco up to today. And we will use each model to predict the next infected cases for the next day.\n",
    "\n",
    "Let's start loading the data from the main source."
   ]
  },
  {
   "cell_type": "code",
   "execution_count": 1,
   "metadata": {
    "scrolled": true,
    "slideshow": {
     "slide_type": "subslide"
    }
   },
   "outputs": [
    {
     "data": {
      "text/html": [
       "<div>\n",
       "<style scoped>\n",
       "    .dataframe tbody tr th:only-of-type {\n",
       "        vertical-align: middle;\n",
       "    }\n",
       "\n",
       "    .dataframe tbody tr th {\n",
       "        vertical-align: top;\n",
       "    }\n",
       "\n",
       "    .dataframe thead th {\n",
       "        text-align: right;\n",
       "    }\n",
       "</style>\n",
       "<table border=\"1\" class=\"dataframe\">\n",
       "  <thead>\n",
       "    <tr style=\"text-align: right;\">\n",
       "      <th></th>\n",
       "      <th>Province/State</th>\n",
       "      <th>Country/Region</th>\n",
       "      <th>Lat</th>\n",
       "      <th>Long</th>\n",
       "      <th>1/22/20</th>\n",
       "      <th>1/23/20</th>\n",
       "      <th>1/24/20</th>\n",
       "      <th>1/25/20</th>\n",
       "      <th>1/26/20</th>\n",
       "      <th>1/27/20</th>\n",
       "      <th>...</th>\n",
       "      <th>5/31/20</th>\n",
       "      <th>6/1/20</th>\n",
       "      <th>6/2/20</th>\n",
       "      <th>6/3/20</th>\n",
       "      <th>6/4/20</th>\n",
       "      <th>6/5/20</th>\n",
       "      <th>6/6/20</th>\n",
       "      <th>6/7/20</th>\n",
       "      <th>6/8/20</th>\n",
       "      <th>6/9/20</th>\n",
       "    </tr>\n",
       "  </thead>\n",
       "  <tbody>\n",
       "    <tr>\n",
       "      <th>0</th>\n",
       "      <td>NaN</td>\n",
       "      <td>Afghanistan</td>\n",
       "      <td>33.0000</td>\n",
       "      <td>65.0000</td>\n",
       "      <td>0</td>\n",
       "      <td>0</td>\n",
       "      <td>0</td>\n",
       "      <td>0</td>\n",
       "      <td>0</td>\n",
       "      <td>0</td>\n",
       "      <td>...</td>\n",
       "      <td>15205</td>\n",
       "      <td>15750</td>\n",
       "      <td>16509</td>\n",
       "      <td>17267</td>\n",
       "      <td>18054</td>\n",
       "      <td>18969</td>\n",
       "      <td>19551</td>\n",
       "      <td>20342</td>\n",
       "      <td>20917</td>\n",
       "      <td>21459</td>\n",
       "    </tr>\n",
       "    <tr>\n",
       "      <th>1</th>\n",
       "      <td>NaN</td>\n",
       "      <td>Albania</td>\n",
       "      <td>41.1533</td>\n",
       "      <td>20.1683</td>\n",
       "      <td>0</td>\n",
       "      <td>0</td>\n",
       "      <td>0</td>\n",
       "      <td>0</td>\n",
       "      <td>0</td>\n",
       "      <td>0</td>\n",
       "      <td>...</td>\n",
       "      <td>1137</td>\n",
       "      <td>1143</td>\n",
       "      <td>1164</td>\n",
       "      <td>1184</td>\n",
       "      <td>1197</td>\n",
       "      <td>1212</td>\n",
       "      <td>1232</td>\n",
       "      <td>1246</td>\n",
       "      <td>1263</td>\n",
       "      <td>1299</td>\n",
       "    </tr>\n",
       "    <tr>\n",
       "      <th>2</th>\n",
       "      <td>NaN</td>\n",
       "      <td>Algeria</td>\n",
       "      <td>28.0339</td>\n",
       "      <td>1.6596</td>\n",
       "      <td>0</td>\n",
       "      <td>0</td>\n",
       "      <td>0</td>\n",
       "      <td>0</td>\n",
       "      <td>0</td>\n",
       "      <td>0</td>\n",
       "      <td>...</td>\n",
       "      <td>9394</td>\n",
       "      <td>9513</td>\n",
       "      <td>9626</td>\n",
       "      <td>9733</td>\n",
       "      <td>9831</td>\n",
       "      <td>9935</td>\n",
       "      <td>10050</td>\n",
       "      <td>10154</td>\n",
       "      <td>10265</td>\n",
       "      <td>10382</td>\n",
       "    </tr>\n",
       "    <tr>\n",
       "      <th>3</th>\n",
       "      <td>NaN</td>\n",
       "      <td>Andorra</td>\n",
       "      <td>42.5063</td>\n",
       "      <td>1.5218</td>\n",
       "      <td>0</td>\n",
       "      <td>0</td>\n",
       "      <td>0</td>\n",
       "      <td>0</td>\n",
       "      <td>0</td>\n",
       "      <td>0</td>\n",
       "      <td>...</td>\n",
       "      <td>764</td>\n",
       "      <td>765</td>\n",
       "      <td>844</td>\n",
       "      <td>851</td>\n",
       "      <td>852</td>\n",
       "      <td>852</td>\n",
       "      <td>852</td>\n",
       "      <td>852</td>\n",
       "      <td>852</td>\n",
       "      <td>852</td>\n",
       "    </tr>\n",
       "    <tr>\n",
       "      <th>4</th>\n",
       "      <td>NaN</td>\n",
       "      <td>Angola</td>\n",
       "      <td>-11.2027</td>\n",
       "      <td>17.8739</td>\n",
       "      <td>0</td>\n",
       "      <td>0</td>\n",
       "      <td>0</td>\n",
       "      <td>0</td>\n",
       "      <td>0</td>\n",
       "      <td>0</td>\n",
       "      <td>...</td>\n",
       "      <td>86</td>\n",
       "      <td>86</td>\n",
       "      <td>86</td>\n",
       "      <td>86</td>\n",
       "      <td>86</td>\n",
       "      <td>86</td>\n",
       "      <td>88</td>\n",
       "      <td>91</td>\n",
       "      <td>92</td>\n",
       "      <td>96</td>\n",
       "    </tr>\n",
       "  </tbody>\n",
       "</table>\n",
       "<p>5 rows × 144 columns</p>\n",
       "</div>"
      ],
      "text/plain": [
       "  Province/State Country/Region      Lat     Long  1/22/20  1/23/20  1/24/20  \\\n",
       "0            NaN    Afghanistan  33.0000  65.0000        0        0        0   \n",
       "1            NaN        Albania  41.1533  20.1683        0        0        0   \n",
       "2            NaN        Algeria  28.0339   1.6596        0        0        0   \n",
       "3            NaN        Andorra  42.5063   1.5218        0        0        0   \n",
       "4            NaN         Angola -11.2027  17.8739        0        0        0   \n",
       "\n",
       "   1/25/20  1/26/20  1/27/20  ...  5/31/20  6/1/20  6/2/20  6/3/20  6/4/20  \\\n",
       "0        0        0        0  ...    15205   15750   16509   17267   18054   \n",
       "1        0        0        0  ...     1137    1143    1164    1184    1197   \n",
       "2        0        0        0  ...     9394    9513    9626    9733    9831   \n",
       "3        0        0        0  ...      764     765     844     851     852   \n",
       "4        0        0        0  ...       86      86      86      86      86   \n",
       "\n",
       "   6/5/20  6/6/20  6/7/20  6/8/20  6/9/20  \n",
       "0   18969   19551   20342   20917   21459  \n",
       "1    1212    1232    1246    1263    1299  \n",
       "2    9935   10050   10154   10265   10382  \n",
       "3     852     852     852     852     852  \n",
       "4      86      88      91      92      96  \n",
       "\n",
       "[5 rows x 144 columns]"
      ]
     },
     "execution_count": 1,
     "metadata": {},
     "output_type": "execute_result"
    }
   ],
   "source": [
    "import pandas as pd\n",
    "# Loading the Data from the source\n",
    "url = 'https://raw.githubusercontent.com/CSSEGISandData/COVID-19/master/csse_covid_19_data/csse_covid_19_time_series/time_series_covid19_confirmed_global.csv'\n",
    "df = pd.read_csv(url)\n",
    "df.head()"
   ]
  },
  {
   "cell_type": "code",
   "execution_count": 2,
   "metadata": {
    "slideshow": {
     "slide_type": "subslide"
    }
   },
   "outputs": [
    {
     "data": {
      "text/html": [
       "<div>\n",
       "<style scoped>\n",
       "    .dataframe tbody tr th:only-of-type {\n",
       "        vertical-align: middle;\n",
       "    }\n",
       "\n",
       "    .dataframe tbody tr th {\n",
       "        vertical-align: top;\n",
       "    }\n",
       "\n",
       "    .dataframe thead th {\n",
       "        text-align: right;\n",
       "    }\n",
       "</style>\n",
       "<table border=\"1\" class=\"dataframe\">\n",
       "  <thead>\n",
       "    <tr style=\"text-align: right;\">\n",
       "      <th></th>\n",
       "      <th>163</th>\n",
       "    </tr>\n",
       "  </thead>\n",
       "  <tbody>\n",
       "    <tr>\n",
       "      <th>3/1/20</th>\n",
       "      <td>0</td>\n",
       "    </tr>\n",
       "    <tr>\n",
       "      <th>3/2/20</th>\n",
       "      <td>1</td>\n",
       "    </tr>\n",
       "    <tr>\n",
       "      <th>3/3/20</th>\n",
       "      <td>1</td>\n",
       "    </tr>\n",
       "    <tr>\n",
       "      <th>3/4/20</th>\n",
       "      <td>1</td>\n",
       "    </tr>\n",
       "    <tr>\n",
       "      <th>3/5/20</th>\n",
       "      <td>2</td>\n",
       "    </tr>\n",
       "  </tbody>\n",
       "</table>\n",
       "</div>"
      ],
      "text/plain": [
       "        163\n",
       "3/1/20    0\n",
       "3/2/20    1\n",
       "3/3/20    1\n",
       "3/4/20    1\n",
       "3/5/20    2"
      ]
     },
     "execution_count": 2,
     "metadata": {},
     "output_type": "execute_result"
    }
   ],
   "source": [
    "# Selecting the country Morocco\n",
    "df = df[df[\"Country/Region\"]==\"Morocco\"]\n",
    "cumulative_daily_cases = df.iloc[:, 43:].transpose()\n",
    "cumulative_daily_cases.head()"
   ]
  },
  {
   "cell_type": "code",
   "execution_count": 3,
   "metadata": {
    "slideshow": {
     "slide_type": "subslide"
    }
   },
   "outputs": [
    {
     "data": {
      "text/plain": [
       "163    0\n",
       "dtype: int64"
      ]
     },
     "execution_count": 3,
     "metadata": {},
     "output_type": "execute_result"
    }
   ],
   "source": [
    "# Checking if there are any missing values\n",
    "cumulative_daily_cases.isnull().sum()"
   ]
  },
  {
   "cell_type": "code",
   "execution_count": 4,
   "metadata": {
    "scrolled": true,
    "slideshow": {
     "slide_type": "subslide"
    }
   },
   "outputs": [
    {
     "data": {
      "text/html": [
       "<div>\n",
       "<style scoped>\n",
       "    .dataframe tbody tr th:only-of-type {\n",
       "        vertical-align: middle;\n",
       "    }\n",
       "\n",
       "    .dataframe tbody tr th {\n",
       "        vertical-align: top;\n",
       "    }\n",
       "\n",
       "    .dataframe thead th {\n",
       "        text-align: right;\n",
       "    }\n",
       "</style>\n",
       "<table border=\"1\" class=\"dataframe\">\n",
       "  <thead>\n",
       "    <tr style=\"text-align: right;\">\n",
       "      <th></th>\n",
       "      <th>163</th>\n",
       "    </tr>\n",
       "  </thead>\n",
       "  <tbody>\n",
       "    <tr>\n",
       "      <th>2020-03-01</th>\n",
       "      <td>0</td>\n",
       "    </tr>\n",
       "    <tr>\n",
       "      <th>2020-03-02</th>\n",
       "      <td>1</td>\n",
       "    </tr>\n",
       "    <tr>\n",
       "      <th>2020-03-03</th>\n",
       "      <td>1</td>\n",
       "    </tr>\n",
       "    <tr>\n",
       "      <th>2020-03-04</th>\n",
       "      <td>1</td>\n",
       "    </tr>\n",
       "    <tr>\n",
       "      <th>2020-03-05</th>\n",
       "      <td>2</td>\n",
       "    </tr>\n",
       "  </tbody>\n",
       "</table>\n",
       "</div>"
      ],
      "text/plain": [
       "            163\n",
       "2020-03-01    0\n",
       "2020-03-02    1\n",
       "2020-03-03    1\n",
       "2020-03-04    1\n",
       "2020-03-05    2"
      ]
     },
     "execution_count": 4,
     "metadata": {},
     "output_type": "execute_result"
    }
   ],
   "source": [
    "# Making the dates look more suitable\n",
    "cumulative_daily_cases.index = pd.to_datetime(cumulative_daily_cases.index)\n",
    "cumulative_daily_cases.head()"
   ]
  },
  {
   "cell_type": "code",
   "execution_count": 31,
   "metadata": {
    "slideshow": {
     "slide_type": "subslide"
    }
   },
   "outputs": [
    {
     "data": {
      "image/png": "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\n",
      "text/plain": [
       "<Figure size 576x432 with 1 Axes>"
      ]
     },
     "metadata": {
      "needs_background": "light"
     },
     "output_type": "display_data"
    }
   ],
   "source": [
    "# Visualizing the cumulative daily cases\n",
    "\n",
    "import matplotlib as mpl\n",
    "import matplotlib.pyplot as plt\n",
    "\n",
    "mpl.rcParams['figure.figsize'] = (8, 6)\n",
    "mpl.rcParams['axes.grid'] = False\n",
    "\n",
    "plt.plot(cumulative_daily_cases)\n",
    "plt.title(\"Cumulative daily cases in Morocco\");"
   ]
  },
  {
   "cell_type": "code",
   "execution_count": 32,
   "metadata": {
    "slideshow": {
     "slide_type": "slide"
    }
   },
   "outputs": [
    {
     "data": {
      "image/png": "iVBORw0KGgoAAAANSUhEUgAAAeoAAAFqCAYAAADV3RniAAAABHNCSVQICAgIfAhkiAAAAAlwSFlzAAALEgAACxIB0t1+/AAAADl0RVh0U29mdHdhcmUAbWF0cGxvdGxpYiB2ZXJzaW9uIDIuMi4yLCBodHRwOi8vbWF0cGxvdGxpYi5vcmcvhp/UCwAAIABJREFUeJzsvXl8Y3d57/95tEu25H0de8aTZPaVZJIQKJAf6W1ZAqFpWdKSBNIW+rvQ0tveUtree6Htj0LL0ntpC71lKSEsBVooIaQ0IQmQQPZkxslsmUlmxvZ4t7XZ2o6Ovr8/zvkebUfSkSyPZel5v155xTk6ko7s2J/zbJ+HhBBgGIZhGKYxsW30BTAMwzAMUxoWaoZhGIZpYFioGYZhGKaBYaFmGIZhmAaGhZphGIZhGhgWaoZhGIZpYFioGaZKiGgrEa0QkV3/7x8T0W9t9HXVCyL6DSK6b6Ovg2EYDRZqpuUgovNEFCeiKBGFiOjnRPQ7RGTp90EIMSGEaBdCqOt9rRuBEOJrQohfquW5RPQRIhJE9HsFx39fP/6Rulwkw7QQLNRMq/ImIYQfwDYAHwfwxwC+uLGX1DS8AOD2gmO36cerhogca74ihtnEsFAzLY0QIiyEuBvA2wHcTkT7AYCI3khEzxJRhIgmcyNBIhrTo8M8ASEiNxEtE9GBnGP9evTeZ/b+RPTbRHRSj+5PENGV+vEPEdGLOcd/Jec5VxDRT4goTESLRPTNnMd2E9H9+nWcJqK35Tz2Bv21okR0kYj+e4lrehcRPZLz30LPOJwhoiAR/QMRUZlv65MAfES0T3/+PgBe/XjhZz+rX+vdRDRc8J7vI6IzAM7ox15BRE/qn/tJInpFzvndRPTPRDStX+O/5zx2ExEd1X+WLxLR6/Tjw/r7LuvX8dtlPhPDbBgs1AwDQAjxBIApAK/SD61CiwI7AbwRwP9LRG+p8BpJAP8C4J05h28B8CMhxELh+UT0VgAf0d8nAODNAJb0h1/Ur6UDwJ8D+CoRDemP/SWA+wB0ARgB8Hf667UBuB/A1wH06+/9WSmY0DIG79UzCfsBPFju8xRwI4CrARwC8DYAv1zh/Lv0zwVo0fVXch8kotcC+Jj+WkMALkD73uXyFgDXAthLRN0AfgDgMwB6AHwawA+IqCfn/XwA9kH77H+rv881+nv/EbSf5asBnNef8w1oP/NhAL8G4K+I6IYKn4thLjks1AyTZRpANwAIIX4shHhOCJERQoxD+6P+GguvcSeAX8+pd98KTUTM+C0AfyOEeFJonBVCXNDf/9tCiGn9/b8JLaq8Rn+eAi1lPyyESAghZPR7I4DzQoh/FkKkhRDPAPg3aCIkn7eXiAJCiKD+uFU+LoQICSEmADwE4HCF878K4BYicgJ4h/7fufwGgC8JIZ7Rb3D+BMB1RDSWc87HhBDLQog4tJulM0KIu/TP9g0ApwC8Sb+BeT2A39E/lyKE+In+Gr+pv8/9+vfyohDiFBGNAvgFAH+sfw+PAvgCtJ8XwzQULNQMk2ULgGUAIKJrieghIlogojCA3wHQW+kFhBCPQ4vGX0NEuwFcAeDuEqePQouciyCi2/R0bYiIQtAiYPn+HwRAAJ4gouNEdId+fBuAa+Vz9Of9BoBB/fFfBfAGABf01Pl1lT5PDrM5X8cAtJc7WRf0swD+CprAThacMgwtipbnr0DLJmzJOWey1Pk6F/TzRwEsCyGCJpdS6ns8rD8navJ6DNNQcJMGwwAgoquh/ZGW0enXAfw9gNcLIRJE9L9hQah17oSW/p4F8K9CiESJ8yYBXG5yLdsAfB7ADQAeFUKoRHQUmjhDCDEL4Lf1c38BwI+I6Kf66/1ECPFfzN5MCPEkgJv0KPf9AL4FTcjWi68A+BKAd5s8Ng3txgKAkbbvAXAx5xxR6nydrQB+CO1zdxNRpxAiVHCO6fdYf71uIvLniPXWgvdnmIaAI2qmpSGiABHdCK0++lUhxHP6Q35oEVdCr3P+ehUvexeAX4Em1l8pc94XAPx3IrqKNK7QRboNmkgt6Nf4bmgRtbzmtxLRiP6fQf1cFcA9AHYS0a1E5NT/uZqI9hCRi7T56A4hhAIgoj9nPfkmgF+CdkNQyNcBvJuIDhORG1rk/bgQ4nyJ17oX2mf7dSJyENHbAewFcI8QYgbAf0Crx3fpn/vV+vO+qL/PDURkI6ItRLRbj/B/DuBjROQhooPQ0uRfq9NnZ5i6wULNtCrfJ6IotIjrz6A1J+VGfv8VwF/o5/wvmIuNKUKIKQDPQBPQh8uc920AH4UmWlEA/w6gWwhxAsCnADwKYA7AAQA/y3nq1QAeJ6IVaGn1DwghzumR4S9BqwlPQ4vo/xqAW3/erQDOE1EEWio/t+mt7ggh4kKIH+k15sLHHgDwP6HV0GegRb3vKPNaS9Bq8H8ILUX+QQA3CiEW9VNuhVaDPwVgHsDv6897AtrP9W8BhAH8BNnI/BYAY9C+V98F8GEhxP21f2KGWR9ICFH5LIZhqoKIvgRgWgjxPzb6WhiG2dxwjZph6ozeuXwzgJdt7JUwDNMMcOqbYeoIEf0lgOcBfEIIcW6jr4dhmM0Pp74ZhmEYpoHhiJphGIZhGhgWaoZhGIZpYBqimay3t1eMjY1t9GUwDMMwzCXj6aefXhRCmC7syaUhhHpsbAxPPfXURl8GwzAMw1wyiKjQFtcUTn0zDMMwTAPDQs0wDMMwDQwLNcMwDMM0MA1Ro2YYhmEYRVEwNTWFRKLUwrnNicfjwcjICJxOZ03PZ6FmGIZhGoKpqSn4/X6MjY2BiDb6cuqCEAJLS0uYmprC9u3ba3oNTn0zDMMwDUEikUBPT0/TiDQAEBF6enrWlCVgoWYYhmEahmYSaclaPxMLNcMwDMPo3HHHHejv78f+/fvzjv/d3/0ddu3ahX379uGDH/wgAOCJJ57A4cOHcfjwYRw6dAjf/e531+WauEbNMAzDMDrvete78P73vx+33Xabceyhhx7C9773PYyPj8PtdmN+fh4AsH//fjz11FNwOByYmZnBoUOH8KY3vQkOR32llSNqhmEYhtF59atfje7u7rxjn/vc5/ChD30IbrcbANDf3w8A8Pl8hignEol1S9tzRM0wm5RUOoNP/Ocp/OYvXIbBDs9GXw7D1JU///5xnJiO1PU19w4H8OE37av6eS+88AIefvhh/Nmf/Rk8Hg8++clP4uqrrwYAPP7447jjjjtw4cIF3HXXXXWPpgGOqBlm0/LMRBCff/gcfvrCwkZfCsM0Nel0GsFgEI899hg+8YlP4G1vexuEEACAa6+9FsePH8eTTz6Jj33sY+syA84RNcNsUo5OhgAASTWzwVfCMPWnlsh3vRgZGcHNN98MIsI111wDm82GxcVF9PVlF1/t2bMHbW1teP7553HkyJG6vj9H1AyzSTk6oQl1Ks1CzTDryVve8hY8+OCDALQ0eCqVQm9vL86dO4d0Og0AuHDhAk6fPo31WNnMETXDbFKenQwCAJJpdYOvhGGah1tuuQU//vGPsbi4iJGREfz5n/857rjjDtxxxx3Yv38/XC4X7rzzThARHnnkEXz84x+H0+mEzWbDZz/7WfT29tb9mlioGWYTMhOOYy6SBAAkFY6oGaZefOMb3zA9/tWvfrXo2K233opbb711vS+JU98MsxmRaW8ASHGNmmGaGo6oGWYTcnQyBJfdBpuNI2qGaXY4omaYTcizEyHsHQ6gzeVASuUaNcM0MyzUDLPJSKsZPHcxjJdt7YTLYeOImmkq5HxyM7HWz8RCzTCbjNNzUcQVFYdHO+F22JDk8SymSfB4PFhaWmoqsZb7qD2e2t0DuUbNMJsMaXTystEuuB12nqNmmoaRkRFMTU1hYaG53PY8Hg9GRkZqfj4LNcNsMo5OhNDd5sJot1dLffMcNdMkOJ1ObN++faMvo+Hg1DfDbDKenQzh8GgniAhuh43HsximyWGhZphNRCSh4MWFFbxstBMAuJmMYVoAFmqG2USMT4YhBHB4qybUHFEzTPPDQs0wm4ijur/3wREp1HaOqBmmyWGhZphNxLMTIVze14YOrxMAuJmMYVoAFmqG2SQIIXB0MoTDo13GMbfDxuNZDNPksFAzzCZhKhjH0moKL9Pr04CMqFmoGaaZYaFmmE3Cs7rRyeHRrFCz4QnDND8s1AyzSTg6EYLHacPuQb9xzO3kiJphmh0WaobZJMxFEtjS6YXDnv21ddm18axMpnm8kRmGyYeFmmE2CXFFhc+V7/rrdmq/wjxLzTDNCws1w2wS4ikVXqc975hLj645/c0wzQsLNcNsEuKKakTQErcu3NxQxjDNCws1w2wSEkpxRO12yIiaTU8YplmpKNRENEpEDxHRSSI6TkQf0I9/hIguEtFR/Z835DznT4joLBGdJqJfXs8PwDCtQkJR4XWVEmqOqBmmWbGyjzoN4A+FEM8QkR/A00R0v/7Y3wohPpl7MhHtBfAOAPsADAP4ERHtFELwLT/DrIF4mYiaU98M07xUjKiFEDNCiGf0r6MATgLYUuYpNwH4FyFEUghxDsBZANfU42IZppWJp1R4CpvJOKJmmKanqho1EY0BeBmAx/VD7yeicSL6EhFJA+ItACZznjaF8sLOMIwFEkrGJPXNzWQM0+xYFmoiagfwbwB+XwgRAfA5AJcDOAxgBsCn5KkmTy9yYyCi9xDRU0T01MLCQtUXzjCtRFrNIKVmisezuJmMYZoeS0JNRE5oIv01IcR3AEAIMSeEUIUQGQCfRza9PQVgNOfpIwCmC19TCPFPQogjQogjfX19a/kMDNP0JPSImWvUDNN6WOn6JgBfBHBSCPHpnONDOaf9CoDn9a/vBvAOInIT0XYAOwA8Ub9LZpjWI57SImZP4Ry1nvrmGjXDNC9Wur5fCeBWAM8R0VH92J8CuIWIDkNLa58H8F4AEEIcJ6JvATgBrWP8fdzxzTBrI6FIoebUN8O0GhWFWgjxCMzrzveWec5HAXx0DdfFMEwOUqhLzVFz6pthmhd2JmOYTUBcCjWPZzFMy8FCzTCbAFmj5mYyhmk9WKgZZhMgI2pPiTlqjqgZpnlhoWaYTUCiROrbadfaR5IKN5MxTLPCQs0wm4BSNWoigtthQ1LliJphmhUWaobZBMRTmhAXjmcBWkNZUmGhZphmhYWaYTYBpSJqQKtTp+ocUX//2DT+9LvP1fU1GYapDRZqhtkEGIYnruJfWfc6RNQPnZrH948WOf8yDLMBsFAzzCYgoaiwEeCylxDqOjuTRRKKEcUzDLOxsFAzzCYgnlLhddqhWe/n43LY6j5HHY4rSGcEz2czTAPAQs0wm4C4ohbZh0q0iLq+ghqJp433ZRhmY2GhZphNQFxRTTu+Ab2ZrN5CnVC0902xUDPMRsNCzTCbgISimnZ8A4DbWf8adTiuCzVH1Ayz4bBQM8wmIJ4qHVG77PVNfStqBjE9ko6l0nV7XYZhaoOFmmE2AfEKEXU9U98RPZoGOPXNMI0ACzXDbAISSqZoIYek3hF1JJGNojn1zTAbDws1w2wCtBq1+a9rvZvJciPqGEfUDLPhsFAzzCagUuq7ns1k4RyhTnBEzTAbDgs1w2wC4qnSc9Que51r1AmOqBmmkWChZphNQNk5amd9a9RhbiZjmIaChZphNgHl5qhddjvSGQE1I+ryXtKVDOBmMoZpBFioGabBUdQMFFWUjagB1C39HY4rcNoJNuKImmEaARZqhmlwEmV2UQOa1zeAujWURRIKOrxO+FwOrlEzTAPg2OgLYBimPAl913TJOWpHfSPqSFxBwOMEkEZcYWcyhtloOKJmmAanckStHa9XQ1k4riDgdcLnsnPqu8781b0ncd/x2Y2+DGaTwULNMA1OvIJQu+qe+k4j4HXC67Rz6rvO3PXoBdx3Ym6jL4PZZLBQM0yDI6Nar6uUM5kU6nqmvh3wuuzc9V1HEoqKuKIimjOnzjBWYKFmmAZHimXpfdT1F+oOPaLm1Hf9CMU0gY4muO7PVAcLNcM0OFZT3/VoJhNCIJLIqVFzRF03grEUABZqpnpYqBmmwUmkKkXU9WsmiysqFFVoETU3k9WVbETNqW+mOlioGabBqRRRG6nvOkS/0pUs4NFT3xxR140QR9RMjbBQM0yDI+eoSy3lkEKdUtceUUuf74DXAZ+Lu77rSZBr1EyNsFAzTINTqZnMGM9S1i7UcnNWh9cJD6e+60oorkXUKTXD60OZqmChZpgGx6rhSV0iaj3qC3ic8DkdSKkZpOvwuky2Rg1wVM1UBws1wzQ48ZQKu43gtJPp43WtUedE1HJum+vU9SG4mjK+5oYyphpYqBmmwYnrKy6JzIXaVccadcSoUTvhdTmM92fWTijOETVTGyzUDNPgxBW1ZH0ayI2o69FMpgmI3+OAT39PrlPXh1AsZWRFWKiZamChZpgGJ5FSS9qHAoDDboON6jNHHUkoaHPZ4bTbjC5zjqjrQzCmYKTLB4BT30x1sFAzTIMTV1R4HKUjakBrKKvXeFbA6wSQHQfjEa36EIopGO2WQs0RNWOdikJNRKNE9BARnSSi40T0Af14NxHdT0Rn9H936ceJiD5DRGeJaJyIrlzvD8EwzUxCUUvOUEvcTludDE80n28g22WeYKFeM0IIhGIpbO32Asg27TGMFaxE1GkAfyiE2APg5QDeR0R7AXwIwANCiB0AHtD/GwBeD2CH/s97AHyu7lfNMC1EpRo1ALjstvo0kyUUBDyaUPs4oq4bK8k00hmRk/rmiJqxTkWhFkLMCCGe0b+OAjgJYAuAmwDcqZ92J4C36F/fBOArQuMxAJ1ENFT3K2eYFiGuZErOUEu0iLo+zWSBgoiaa9RrR85Qd7e50Oays1AzVVFVjZqIxgC8DMDjAAaEEDOAJuYA+vXTtgCYzHnalH6s8LXeQ0RPEdFTCwsL1V85w7QIiZRaUahddlt9msniCgJebSzLaCbjiNoSn7rvNB45s2j6mBTqLp8Lfo+Tm8mYqrAs1ETUDuDfAPy+ECJS7lSTY6LogBD/JIQ4IoQ40tfXZ/UyGKbliFupUTvs9RNqT35EHUtx9FeJVDqDf3joLP796EXTx+WKyy6fE36PgyNqpiosCTUROaGJ9NeEEN/RD8/JlLb+73n9+BSA0ZynjwCYrs/lMkzrYaVG7XbakEyvLfJVMwLRZNpoJvMZhidsIVqJ6VAcGQHMRRKmj0uh7pRCneSImrGOla5vAvBFACeFEJ/OeehuALfrX98O4Hs5x2/Tu79fDiAsU+QMw1SP1dR3ao0RtUzHyhq1x6lbiHJEXZGJ5RiA0kItt5J1Gqlv/p4y1nFYOOeVAG4F8BwRHdWP/SmAjwP4FhH9JoAJAG/VH7sXwBsAnAUQA/Duul4xw7QYWkRd/p7a7bQb9p+1IndRy4iaiHgntUUmg1Kok6aPB1d1ofZqEbUUdoaxQkWhFkI8AvO6MwDcYHK+APC+NV4XwzAAFDWDdEZckmYyOdsb8GT/LPBOamtI4Q3HFSRMShXBWAp+twMOu42byZiqYWcyhmlgjBWXFgxPUmusUYfj+alvQNuBzRF1ZSZzImSz9Hc4rqCzTfu+BjwORDj1zVQBCzXDNDBSJCs2kzmsR9SKmjEduZKp844cofa57DyeZYHJ5bhRnpgNFwt1MJZCl88FQFt4kkpn1tz8x7QOLNQM08AkUpr4VjQ8cVhvJvvr/ziFN//9I0XHzSJqr6t0RJ1MqwjHOIULaKnvw6OdAIC5aHGdOhjLWrP69fE3bihjrMJCzTANTNxq6ruKOeqfnlnAmfkVQ5glskadG1F7naVr1J996EXc+PcPW3rPzYSiZjAVtN7sFY4pCMcVXD3WDQCYN0t9F0TUAAs1Yx0WaoZpYAyhrtRM5rA2Rx2OK3hhbgUAcGYumvdYJJ6GjYC2nJsCb5nU94WlVUwux5suhXvnz8/jFz/9E8tGL7Lje+9QAF6nvUTqW0GXrzCi5mwEYw0WaoZpYKRIWqlRp9IZaEMXpXl2Imh8LQVbIldcatYJGr4yqW8ZkS+upMq+52bj8XPLSCiZkqNWhchGsq09PgwE3EWpbzUjEEko6OCImqkRFmqGaWASRjNZhTlqhw0ZAaQz5YX6mQtB2Eh7vRcKI+qEkpf2BgCv01Eyog7pQr1gUpPdzIxPhQBY/1xyNGu024f+gAdzBRF1OK5ACORE1FKoOaJmrGHF8IRhmA3C6niWy6EJeSqdgdNeWtSfnghiz1AADhsVCXU4x+db4nXZSkfUeiPZYhMJ9VwkYUTS81Fzl7FCJpZj6PQ5EfA4MRjw4Jgu9JKQ4fOtRdTye8wjWoxVOKJmmAbGao3a7dAeL9dQpmYEjk6EcNW2LuwY8BelviPx4oja53KUrNUaEfVK8wj1+FTY+Hreauo7GMfWbm3P9EDAjdlwIq8EEYxJ+9DCiJqFmrEGCzXDNDDVNJMBKDuidXo2itWUiqu2dWHXgB+LK0ksr2bry+GcFZcSj9OOhJJBpiClnskII1JsptT3+FQINgIcNsK8xc81uRzDqCHUHiTTGcOOFchG1J16RN3u5tQ3Ux0s1AzTwBjNZBXHs7Rf5XId2E/rjWRXbu3CjoF2AMhLf0cSaZOIWnvfRMHrrqTSkNrdTEJ9bCqMnQN+9Pvdlj6XmhGYCsYw2pUVagCYy0mbZ3dRa99bh90Gn8vOETVjGRZqhmlgEnVMfT9zIYh+vxsjXV7sGvQDyB/RipjVqPX3LWwoyzU6aRahFkJgfCqEgyMd6PO7LdWoZyMJKKowUt+DHZpQ545oBQsiagD6TmqOqBlrsFAzTAMTV1Q4bFS2QQywlvp++kIQV27tAhFhMOCB3+3AaV2oE4qKZDqT50oGZJvYCk1PQjlCvdgkNeqpYByhmIKDI53o83ss3YAYo1ky9e3XI+pIfkRtI8DvzpYVeNUlUw0s1AzTwMRTmYrRNFA59T0fTWBiOYartnUB0FZY7hhoNxrKIoli+1Agm/ou7PyWM9RDHZ6maSaT3dqHRjrRH3BbqlFPFAh1f8ANoECo4yl0+lyw2bLz6VpEzULNWIOFmmEamLiiwm1BqF2GUJtH1M9c0EToSl2oAWDXoB9n5qIQQhgLOXJXXAKlU9+huJbOvaK/vWlS3+NTYbjsNuwa1GrUy6spKGp5W9bJ5RhsBAx1apG0x2lHp8+ZZ5YSjClGx7eEV10y1cBCzTANTFJR4XVV/jV1VxDqZyeCcNlt2L8lYBzb0e9HMKZgYSWJsN6lXGR4UiH1vaPfj1hKxWpy80eHxyZD2DPkh8thQ7+ewq6U1p9YjmG405tXmhjwewpS3yl0eguFmiNqxjos1AzTwMQV1VLq24ioFXOhfvpCEAdGOoymMwA5DWUrJVPf8r0TJVLfV/Rr3eObParOZASevxjGwRFtA1afX0thV5qlnlyOGWlvyUBHoVArhtmJhHdSM9XAQs0wDYxVoZYCnDJJ1SbTKsYvhnHl1s6847kjWtnUd7HhCWAWUafgddox0uUFsPkbyl5aXMFqSsXBkQ4AQL8U6go3IBPLcWM0SzLgd+elvkMxJa/jG+DUN1MdLNQM08DEU2rFhRxATurbxO7z+HQEqXTGaCST9LW70elz5gl1sde3eTNZSN+v3NuuCVojRtSKmsHr/8/D+PZTkxXPPTapOZId0ndKy6awciNasVQaiytJbO0pEOqA1mCn6oPmwViquEbtdiCZzljeIc60NizUDNPAJBS1os83kBVqs4j6mQtZo5NciAg7dStRmcoudCaT7x0vsBENxbUGKZkibsTO70fOLuLkTAQPnJyveO74VAg+lx2X92lZht52N4jK34BMBeMAYLiSSQY6PFAzAksrSSTTKmIp1TA7kfBiDqYaWKgZpoGpNvVtVqN+ZiKI0W4v+nXXrFx2DrTjhbkownEFHqctr4YN5Ai1SY26w+tEd5sLtgqCtlH8YHwGAPDcxXCFMzVHsv3DHbDrI1ROuw3dPlfZ1PfEUv5olmRAv3mZjSQMYxiz1DfAft+MNVioGaaBqbqZrCCVKoTA0xeCuKogmpbsHPAjmkjjhbmVovo0kE19F9aow/rIkd1G6Gm3Zrd5KUmmVfzn8Vm4HDZcDMURXC29M1tRMzgxEzHq05I+v7tsM5mx3lKv00ukO9lcJFm0kEPCizmYamChZpgGJp7KVDVHXVjznI8mMRdJ4vBop9nTsHNA6/x+5kKwqOMbAOw2gtthM52j7vRqUWJfu7vhmskefmER0UQat1+3DQDw/HTpqPr0bBSpdAYHC75HfX43FsrUqCeWY2hz2dHdlh8tG37fkYRhH1rY9Z2NqDn1zVSGhZphGpikxYjabiM47VTkTDaje04X1lElUqijyeKFHBKvy27aTCajxL4yCyxWk2kjRXwpuWd8Gh1eJ977mssBAM9fjJQ8V662PFQQUfdXsBGdCmpbs4go73hvuxs20oQ6VCGi5hEtxgos1AzTwMQtGp4AgMtuK46o9Xle2fRVSHeby+jcLnQlk/ic9rzUt/QF79DFp7dM6vszD57BzZ/7uaXrrxcJRcX9J+bwun2D6G13Y7Tbi+fL1KnHp0Lo8DqLas39ATcWVpJ5u6VzmchZb5mL3Ubo87t1oTaPqAMcUTNVwELNMA2KomaQzghLETUAuJ32ohq1bIaSTltm7NTnqUtF1J6CiFpGifL8Pn9pQTt+MYKl1dJitx78+PQCVlMqbjw0BAA4sKWjbEPZ+FQYB0c6iiLjfr8biiqMOnMuQghMmJidSAYCHsxyjZqpEyzUDNOgSHG0MkcNlIioo0kQAb3trhLPyqa/zWrUgLaYI7dGLX2+jRq1LmhyxCuXM/NRCFF+/Wa9uWd8Gj1tLlx3WQ8AYN9wByaWY3mrOSXhuILTc1HTGr7hTmZSp15YSSKhZMoK9XwkgVA8BZfDVnSz1c5CzVQBCzXDNCgJXRytzFEDgNtpK6pRL0ST6GlzwVFmTaYU6pI1ameBUBdEiVLQChvKwnHFcOgq7BpfL2KpNB44OY/X7R80PvOBLVrt+bhJQ9lPX1iAmhG4fld/0WMyC2GW1p9c1maoSwu1nvpeVdDlcxZF6067Jt6c+maswELNMA2KjKgtp74dtqLIdSGaQF+ZtDeQTX3Qhp3UAAAgAElEQVSbjWcBgNflQCwn9R0ucDHraze32zw7v2J8HUtdmsjxoVMLiCsq3nhwyDi2Xxdqs87vB0/No7vNZRpR95fx+5Z7qEe7vUWPAcBgwINgTMFcNGFkHgrhxRyMVVioGaZBqVaoXQ7z1HepRjLJ3uEA9m8JGPaZhXidNiO6B5Bj4iEjak2ICiPPs/NR4+vCpR7rxT3j0+jzu3Ht9h7jWHebC1s6vXiuoPNbzQg8dHoe1+/qM4xOcsnaiBYL9Zn5KOw2wkiXeUQtzWVOz0aL6tMSv8eBaJIjaqYyLNQM06DIdLPVGrXbYdJMFkkakWEpfC4H7vndV+Ga7d0lH48p2cjPqFH75By1eYr4zFxuRL3+Qr2STOPBU/N4w/7BIuHdvyVQ1Pn97EQQoZiCG3YPmL6ez+VAu9thWqMenwpj14C/5M9GzlLPhBNFHd8SbTEHR9RMZVioGaZBSeh2oLU2k2UyAosrlYW6Et7CZrKYAoeN0KbXzgNeB1x2W5Hf95n5SyvUD5ycQzKdwY2Hhose2z/cgXOLq3k14QdOzcNhI7xqZ2/J1+zzu4siaiEExqfCODTaUeJZWupbUi6i5jlqxgos1AzToMh0ca3NZMFYCumMWLtQFzaT6T7fskGKSJsbXozm23SenV/BmL5ZqtDZbD34/rEZDAY8pnap+0dkQ1k2/f3gyXlcPdZdsjYPmJu5XFiKIRxXcGCLeakA0JrJJIU+35IAr7pkLMJCzTANylqbyWQkWKmZrBI+lx0xRTVmocMxxTA7kfTqs9SSlWQaF0NxHBjRxKzQ2azeRBIKfvrCAt5wYAg2k3rz/mG9oUxPf08ux3B6Loob9hR3e+fSbyLU4/prFHqD59LhdRobzQo3Z0m4mYyxCgs1wzQoMgq13kxmz0t9G2YngbVF1B6nPW8WWvP5zhefvgJ3shf1tLe05Vzv1Pf9x+eQUjOGyUkhfX43BgMeQ6gfOq2tvnzt7kpC7THc3STjkyG4HTbsGvSXfB4RGXXqss1kHFEzFmChZpgGxTA8sWghWhRR6wKz1tS3z9hJrV2P5vOdn87t87vyhFrWpw/KiHqdx7PuGZ/Glk4vXlaicx3QGsqkQ9kDJ+exvbcNl+n7p0vR53djNaViNZm9/vGpMPYOB+AsM5sOZOvUpVLffo8TCSUDxWSHOMPkwkLNMA1KoobxLLPUdzn7UCvI95c3DuG4YhpRL68moWa09PjZ+RU47WREnesZUYdiKTx8ZhE3HhwqMhbJZf+WDry0uIqFaBKPvrhUMZoGsjc58iZEzQg8Px3GoZHSNwTGc/VMRumub3YnY6zBQs0wDUr141n5zWQL0ST8boflZrRSyOdLsTWrUff53cgIYFnf+3x2PorLetvR7tbEaD1r1Pcdn0M6I/JMTsw4sKUDQgCff/glpNQMbrAi1AWz1GfnVxBLqWXr0xKZ+i5do+bFHIw1Kgo1EX2JiOaJ6PmcYx8hootEdFT/5w05j/0JEZ0lotNE9MvrdeEM0+zEFRVOO1VMsUoK56gXLJidWMHn0sQ2oahQ1AyiyXSR21ZfQeR5Zn4FVwy0l9xnXU++Pz6Nrd0+wyq0FNKh7K5HL8DvduDImPnceC4yGyFnqY9NhQCUbySTDHdqrmWF+6olHFEzVrHyF+DLAF5ncvxvhRCH9X/uBQAi2gvgHQD26c/5LBGt7XaeYVqUuKLC47D+6yOdyWR39nw0URehlqnvWEpFxLAPzV+JaQj1ShIJRcXEcgw7+rX6r89lX7fU99JKEj9/cali2hvQItw+vxtxRcWrd/bB5aj856/QRnR8KoR2twOX9ZavbQPAW4+M4Iu3H0FPu/nPILuTmiNqpjwV/08VQvwUwLLF17sJwL8IIZJCiHMAzgK4Zg3XxzAtS0LJwFNF2lqOA6X05qT5aNKwslwL2dR3GqG4tA8tiKhz3MleXFiBEMCOfq0+7XM51k2of3h8FmpG4MaDxSYnZuwfDgCo3O0t6fQ54bSTMXo2PhXG/i0B0xGwQgIeJ27YY+56Jh8HOKJmKrOWGvX7iWhcT41Lh4EtACZzzpnSjzEMUyUJRbXcSAbkCLUeVVuxD7WCvIaEomZ3URfNUWf9vuUyjh36sg+P07ZuXt/3HJvBZX1t2DNUelQqlyu3dsFpJ1y/q8/S+USEvnY35iNJJNMqTs5ELDWSWYFT34xVahXqzwG4HMBhADMAPqUfN7vNNN0YT0TvIaKniOiphYWFGi+DYZqXeKo2oU6mM1hJphFX1LoItS+nmSxs7KJ2FpzjQJvLjsWVJM7MrcBuI4z1tBmPrcf2rPloAo+fW8KNB4crpr0lv/Wqy3Dv772qZDrajL6AB/PRBE7PRqGowhg5WyvcTMZYpSahFkLMCSFUIUQGwOeRTW9PARjNOXUEwHSJ1/gnIcQRIcSRvj5rd7cM00rEFbXK1Ld2biqdMZq66lKjdmXHs8IlUt/yvRaiSZyZj2Ksx2fUgL3rVKP+4fOzyAjgxgrd3rl4XXbsGLAWfUukO9mxqcqOZNXAETVjlZqEmohyfzN+BYDsCL8bwDuIyE1E2wHsAPDE2i6RYVqTuKLC67T+K+rKiajrNUMN5Ah1Kpv6LoyogVyhXsEV/dlmK5/Lvi7jWfccm8HOgXbsrFJ4q0UK9fhkCF0+J0a6zHdQV4vTboPHaeOImqmIo9IJRPQNANcD6CWiKQAfBnA9ER2GltY+D+C9ACCEOE5E3wJwAkAawPuEEJdmES3DNBkJRUVPidEeM7Kpb7Vu9qFAjuFJSkVaNzQJlBDq5y9GcDEUxxv2D+U9v97jWQlFxZMXlvG+66+o6+ua0ed3Y2k1hacngjg40mk5zW4FXnXJWKGiUAshbjE5/MUy538UwEfXclEMw+g16q7qxrMALfVdL/tQQIv8nHZCTFERT6nwexxF+54BoLfdjYnlGIBsIxmwPqnv+UgSQgDb9O1c64nMSry0sIobD1hPs1uBF3MwVmBnMoZpUKqdo5Y16qReo3bZbegwiXxrQUbFoViq5JKJvpwGrfVOfc+E4wCAoY76pKHLkXuzU69GMonf4+Q5aqYiLNQM06BUPUftzEbU0pWsXmlar0sX6rhS5EomkY1rRMDlfblCXf+u71k9YzDYsfaMQSVyywf1aiSTBDiiZizAQs0wDUq1c9Que36Nuh4d3xKfy4GYPkddMqLW329rty/Pn9zjtCOhZJDJmE5q1sRsWAr1pYiotdT3YMBTFwOZXHjVJWMFFmqGaUCEEHrXd/URdVLJYD6aqEt9WuLRU9/huFIynS6Fekd/vr2mnMNOpOuX/p4JJ+B3O4ylH+tJT7sLRPWPpgHA7+ZmMqYyLNQM04AoqoCaEVVtvpIRdUrN6Pah9Yyo7YgraW3FZYWI+or+/HEpX8H2rXowF0lgoKO+0W0pnHYbbn35NrzjmtHKJ1cJN5MxVlj/21GGYapGNl9ZXXEJAG793EgijVBMMfy364HXacdKMq01k5WoUQ/4Pbjlmq1486HhoucCqOuI1kw4gaFLJNQA8Bc37V+X1/V7nIjrW8msbkljWg/+P4NhGhDpjV1LjXo6pHVE1zOi9rrsWIgmkREomfq22Qgfu/kA9uqLL3KfC9R3J/VsOGHse97MSHeyFY6qmTKwUDNMAyIbjDxVOJPJGvWkPstczxq1z2XHnN5pXbiQw8pzgfqlvtNqBgsryUsaUa8XPe1admJR387FMGawUDNMA3LP+AwA4PCo9bld6Uw2FdQj6jrYh0q8TrvhSmZmH1r+uVrUWK8RrcWVFNSMwGATCLWcA5/Ru9iZ1mByOYb9H/5Py+ezUDNMg5FKZ/DVxyZw/a4+XNbXXvkJOjL1PRXUIup6jmflNrWZLeQoh89V3xq1MUPdBKlvmRWYZaFuKRZXklhJWr9xZaFmmAbj3udmsLiSxLteMVbV84gILocNiyspEAG97dUJajlya+Wlur5LPrfONepZ3ZWsGSJqWWef1j8T0xosr6aqOp+FmmEaCCEE/vln53BZXxtevaP69a9uParuaXPBUccuYl9uRF116rt8jfquR8/jtZ/8seXXk2niZoioXQ4betvdHFG3GEss1AyzeXl2MoRjU2G86xVjsJksvqiEbCjrq2N9GsgfEzPbnFWOSqnv03NRvLS4anS6V2I2koDLbkN3FZvFGpmhDg/XqFuMpRUWaobZtHz5Z+fhdzvwq1eO1PR8uZijnh3fgGYhCmjRcTWz3bnPLRVRR+JarU7uuq7EbDiBwQ5PXddNbiRDHZ51iaiDq6m6e6wz9WF5NWk0f1qBhZppOpZWkljahOMus+EE7n1uBm+7ehRtNVpjylWX9WwkAwCvS3vdWrZxyT9IpWrUcnuU1brdbDjRFGlvyVCHZ11q1L/+hcfx0R+crPvrMmtnaTWF3nbrv6Ms1EzT8d++dQy/+41nN/oyquZrj1+AKgRuv26s5teQoljviFqOWFXbSAZoRijamkzz6C4S14Q6FLMo1JFEUzSSSQY7vIgm0lV1AVdCzQicnY/ipYXVur0mUz+WV1NVlW5YqJmm49ziCsanwnXd1rTeJBQVX398AjfsHsDWHl/Nr+NaJ6GWdeZa91v7XPbSqW/dlStoIfUthMBMuLmEej1GtBaiSSiqwFyUa9+NyNJKyjC7sQILNdNUCCEwF9FmFKXxx2bg+8emsbSawh2vHFvT6xgRdZ1Tw3LEqpaIWj6/VDOZdGELWoioQzEFqXSm6VLfQH2F+qJuIzsf2XwloFaAI2qmpQnqf8gB4MRMZIOvxjr3jM9ge28brru8Z02vs17NZHLEqtRCDivPL1mj1pvJghZq1LI7uhnsQyVZd7L63VhKv/eVZBqrdUypM2tHCIGl1SR6WKiZViU3Kjm5SYRaCIHxqRCuHutacyfz+jWTrS2iLpX6TqUzhoBbSX1Lv/FLteLyUiCXp9RzREtG1AAwH+WoupGIpVQklAx6uJmMaVXkH3Ii4NTs5hDqqWAcwZiCgyPWfb1LkW0mq6+QGTXqOqe+ZdobsNZM1owRtcdpR0+bq65CPZ0j1PJ3gmkM5HQDp76ZlkX6QB8e7cTJmegGX401jk2FAACH6iDULocNfrcjz5u7HvS0uXHt9m5cPdZd0/N9LgdiSnEKNpqz3nHZglDPhuOwEdBXRTSyGRjq9BjWqPVgOhQ3Nq/VW6jDcQWfvv8FKGqmrq/bKkhXMk59My3LbDgBIuDVO/owsRzLi9galfGpMFx2G3YN+tf8Wq/Z2Ydfvao2s5RyuBw2fPO919Us1Np4VnFELWeoiaylvmcjCfT53XW1R20EBgPeukbUU8E4Dm7Rbvzq3VD2wMk5fOaBMzg2Garr67YKy6vaz4MjaqZlmYsk0NPmxoEtHQCAF+YaP6oenwphz3DAqC+vhZuvHMFH3ryvDldVX0qlvmUj2VDAYzn13Uwd35J624hOh+LYNeiH12mve0Qtr5Nr37WxqNuHsuEJ07JoZhhu7BkOAABONHj6O5MReP5iBAf1G4tmxeeyI2bS9S0j6q09Pktd33NNZnYiGezwIBxX6mL5GU0oiCTS2NLlxUDAXXdBlQ2bXPuuDa5RMy2PtJcc7vAg4HE0fOf3S4srWEmmcXCkuYXaW6LrW5YmtnW3IZJII12h7jkTThjjTM3EcGf9ZqmnQwn9Nb3oD3jWLaKe4xntmlheTcHtsOVtpKsECzXTVMxFEhgIaAsbdg8FcKoBhPoLD7+Ej9x93PSxY5NhAMCh0bU3kjUyXqcdqXQGaoFbnEx9Sze2ULx0nXo1mUY0kTZ2ODcTgwHt5qM+Qq01pW3p9KDfX/+IWs57z3NEXROLK0n0trurGsVkoWaahoSiIhhTjBrm3qEATs1GN9xK9K7HLuArj57HgskfzPGpEHwuOy7va7/0F3YJMVZdFqS/IwkFNgJGujShKlenlh39zTSaJZGfaboOQn3REGofBvSIWoj6/Q7Mco16TVTrSgawUDNNhOxulWYYe4b8iKVUTCzHNuyapkNxXFiKISOAHz4/U/T4+MUw9m/pgL2G3dObCa+x6jK/BhuJK/B7nMYfruXV0hG1FIimjKgNG9G1j2hdDMXhsBH6/G4MBNyIpdS6LfxIKKoxXsQ16tpgoWZaGhlxyYh696DWULaRderHzy0BAPweB74/ni/UiprBienmbyQDAJ9uQVrY+R1JpOH3ONDl0/5wlfP7nm1CsxOJx2lHd51MT6ZDcQx1emC3kXFTU696shTndreDhbpGql3IAbBQM02EIdT6H/Jdg37YCDg5u3Gd34+9uIyAx4E7XrkdT55fzvvjdno2imQ6g4NNXp8GshakhanvaEJBwONElx5hWEl9N2PXN6DdYNarRj2sN9xJh7r5Om3RkjcSB0c6EEmkSy5aYUpTrc83wELNNBFzBalRj9OO7b1tGxpRP3ZuCdds78GbDw9DCOAHOVH1+JTeSNbkHd9AVqgLO78j8TQCXge6dGvScqnvmXAcnT4nPM76uq41CkMdnvrUqINxbOnUhVr3Ea/G9KTszZJ+fbL5sV43AK1CLJVGQsmgu606Zz0WaqZpmI0k4HXaEfA4jGO7hwIbJtSyPv3yy7pxeV879gwF8IPnskL93MUQOn1ObO2uff/0ZqF06luLqL1OO1wOWwWRSDal2YlksGPtNqJpNYPZSAJb9Oa8bOrbmqA+fGYBR/6/H2GyRF+HjKjlzSWPaFXH0kr19qEACzXTRMzqZhi5Yw97hwKYCsYNY41LiaxPv/wybXXljQeH8PSFoDE+c2wyjANbOta8MWsz4DOayQojagUBrxNEhC6fs3yNOhJv2rQ3oM09B2MKEiXWgVphNpJARmivBWi15DaX3bKgnpiOIJ0RJVfEzoTjCHgc2N6rTSlwRF0dhs8316iZVmUunMBAID+ltGdI888+vQF1almf3jOkNbXdeHAIgJb+TigqTs9Fm97oROJ1aX9qimvUWjMZAHT5XGX9vmfDiaZsJJPIbMFa6tS5ZieSgYAHcxYFVY52nVtcNX1cGs7I3zOOqKujFp9vgIWaaSJmI8U+0BvZ+S3r03L0altPGw5s6cA949M4Ph2BmhF1WW25GZDjWfGc8Sw1IxBNphHwaPXpLp+rpI1oKp3B4krKMAZpRuRNyFo6v7NmJ9nvU3/Abdmc5GJQF+oFc6GeDScw1OlBh9cJl8PGpidVkk19c42aaUGEEJiPJI0ZaslQh/ZH5VIL9Uw4W5/O5Y0Hh3BsKmw0ldVjteVmQNaoc1PfK/qKy4BXF+q20qnvOaPju7nWW+YyaAh17XVqGRFLS1JAi6itmpNYi6i18tJAwM0jWlXCqW+mpVleTSGlZooiaiLCniH/Jd9N/fhLywCy9WnJGw9o6e+vPnYB/X53U9dcczHr+pZ9A4Gc1HeoROo7K9TNHFFrn20tEfXFUBxdPqfREwAA/X63ZXcyGVG/ZCLUybSKxZWkkdXo93s49V0ltfh8AyzUTJNQaHaSy56hAE7PRot8pteTx15ayqtPS0a7fTg82omUmmmZtDcAuB02ECGvUUoKtT839R1LmVq+SvFq5q5vr8uOTp9zjTXquNHxLRkIeJBQMogkyruTheMKosk0etpcWFxJFu1ylyNeMkU/EHBbrn0zGksrKfS0uapuIK0o1ET0JSKaJ6Lnc451E9H9RHRG/3eXfpyI6DNEdJaIxonoyqo/CcPUgIy4ClPfALBnMIC4ouL4dPiSXc9jL+XXp3ORTWWt0kgGaJkNnzN/g5ZcyBHwatFfp8+JjNAazAqR4tXsGYjBwNr2Ul8MZs1OJP36zU2lerKMpl95RS8A4Pxi/oiWvK4hPa3e7/dggSPqqlhaTaKnij3UEisR9ZcBvK7g2IcAPCCE2AHgAf2/AeD1AHbo/7wHwOeqviKGqYHZsPYHwyziesUVPWh3O/D2//sY/umnL1ZcpbhWZsJxnDepT0vefHgYe4cC+MU9A+t6HY2G1+UokfrORtSAuY3oxVAcba78GflmZKjDU3ONWgihuZJ1FkTUfmsd2rI+/Qs7NKF+aXEl73F5XdmI2oNoMo3VOvmItwK1+HwDFoRaCPFTAMsFh28CcKf+9Z0A3pJz/CtC4zEAnUQ0VPVVMUyVzEYSIAL6/MV3qyNdPtz3316NV17Rg7+69xRu+oefYXwqtG7XUqo+Len3e3DvB16FvcMB08ebFZ/Lntf1HdFXWnbozWTyD5iZUJ9bXMVYb1vTz5wPdXprTn1H4mmsplRjE5nEqunJVFCLoF9xeQ+IihvKjPJDhzRT0V3PeIuWZWTqu1pqrVEPCCFmAED/d79+fAuAyZzzpvRjRRDRe4joKSJ6amFhocbLYBiNuXACve1uOO3m/0sPd3rx+duO4HO/cSUWokm85R9+hi//7FxV77G8msIH//VYRZOHx15agt+kPt3qeJ32vDlqWTOVEXWnbiNqJtTnlzShbnaGAh4sraZqMj2ZCmlCWxhR91sU1IvBONwOG7Z0erGl01sk1LPhBPxuB9rdWlajWtezbz01mWeh24qsW0RdJWa3u6YdPEKIfxJCHBFCHOnr66vzZTCthtkMdSFEhNcfGML9f/AaHBjpxF2PXajqPf76P07hW09N4YGT82XPe+ylJVy7vbvpV1dWi9eVX6OWzUrtOV3fABAs8PtW1AymgnFs72l+oZY1+Gq8uSXS7GRLgVD7XA74LWy7uqg3ohERtve2mUTUcaM+DWjd5IB1of7iw+dw58/PWzq3GYml0ogr6rrVqM2Ykylt/d/yL9cUgNGc80YATNf4HgxjmblIwvKe4g6vE9du78ZkMG7aYWzG0ckQvvmUliwq15Q2G07o9WnztHcro6W+85vJ2t0O44amq0TqeyoYh5oRrRFR62nl6Rrq1NPGDHXxCFt/wF0xE3QxlF3mcVlvG84trOaNdM2GE3njcdkmNWs3FeG4gsXV1k2T1+rzDdQu1HcDuF3/+nYA38s5fpve/f1yAGGZImeY9UTz+bZ+pzra7UMqnbE0XpLJCHz4e8+jz+/GgS0dOD5d2jzl2YkgAOCqbV2Wr6VV8BVE1NpCjmxzWMCjiXahUJ/XI7uxnuZfXiIj1lrq1BdDcbgcNlMhGAhUnnm+GIwb9e3tvW2IJtNYXMn+LKbDCQzl3AwHPA54nDbLft+RhILFFq5nL+tmJ7Wkviu2UBLRNwBcD6CXiKYAfBjAxwF8i4h+E8AEgLfqp98L4A0AzgKIAXh31VfEMFWSUFSEYkpVM7bb9I1VF5ZiRhRTim8/PYljU2H87dsPYXwqjH95YhJqRpimto9NheGwEdenTfAU1qj1hRwSIkKn11nk9y1TsK0QUcv/h5+7GIbDTjg2GcKxyTBWU2l8+3euyzMyKURGxDaT/y8HAh48eb6wJzhLPKViaTVlRNTb+7SlG+cWV9Hnd+sWrsm88TjNncya6YmiZoybtFQ6A5ej9Sw8lvRsQrWuZIAFoRZC3FLioRtMzhUA3lf1VTDMGjBmqKsRaj06m1gun6YOxxT89Q9P4+qxLrzl8BaoGSCunMe5xVVc0d9edP5zF0PYPeRv2p3Ja6Ew9Z27kEPS6XMWrbo8v7QKv9tRU8pws9HmdqDD68QXH9EaHV0OGwYCbkwua5a05W4AtdEs898Bze87CSGEaee8HM2SZimX6TdF5xZXcM32bsxHExACRa8/4PdYqlGH49mbr6XVZMWb42akVp9vwIJQM0yjI9OE1Qj1cKcXdhthYsl8767k0/efRiiWwkfefA2ICHv1P5THp8NFQp3JCIxPhfGmQ8NVfoLWwOdyIJY7npUozoJ0t7mKmslaZTRL8je/dhDzkQQOj3Zh16Afx6ZCeOs/PoqFaBJ7ygy7XgzG8Zqd5o25/X4PUmoG4biCTl/xDY8U6pEu7QZ2uNMLl91mWIkWjmYZrxtwly0FSfKEeiXVkkJtpL5riKhbL//ANB2GfWgVrlVOuw3DnR5cWC4t1CemI7jrsQt458u3Yd+w5iK2Y6AdLrvNdF/v+aVVRBNpHGohx7Fq8LoKx7PyU98A0KnbiOZyYSnWEmlvyS/vG8St143hwEgHXA4b+vQu4YUy9d1kWsV8NFlkHyqptJZSzlDL1LfdRtjW4zO2aBmuZAW/Y1rqu7KPeK5QL6y0Zp1a+ny3VenzDbBQM01ALalvANjW3YaJMkL9mQfOoMPrxB/8l53GMafdhp2D7ThhEkWMT2nd4Ae2tI6HdzV4nXYoqoCiO8NF4ukip7EuX/4GrVQ6g6lgDNtboJGsFNLEp9wctMwqmXV8A5Vnni8G43DYKO93KHdEa1bvQi+8Ge73uxFLqVip4E5WGFG3Ios1+nwDLNRMEzAbTsLrrN5ecmuPDxNL5uv8AGB8KoRX7+wrShXuHQrgxHSkKIo4NhWCx2nDzoHi2jUDY2NQXFEhhEDUJKLuanMhGFOM7+1kMIaM0HZ5typtbgfaXPayEfVFkz3UuQz4Kwh1KI7BDk9eg+T2vjZcWIpBzQjMhBNodzsMcxrjdY0bgPJRciRHqBdbNqJO1pT2BliomSZgLpLAoL4jtxq2dvsQjCmG53Qu4biC6XACuwb9RY/tG+7A0mqq6I/Tc1Nh7BvugKOEO1qrI1ddxlMqVlMqMgJFzWRdPhdS6WyH8PkW6vguR5/fXTZlLM1OSkXUldzJLgbjRSK/vacNKTWD6VAcM6GEaWkp+7rlG8ryI+pWFeoUumtoJANYqJkmYDaSMGpw1SBHtMwayl6Y0/ZX7zYRaunRnWt8klYzeH463FIbsarFl7OTWkZYhRFaV4GNqEy9bmehxkIZMZwtWJhRiMdpR4fXWTaiLqxvy+/5S4urmIkkTF97wKLpifx5DwTcebPZrcTiSgq9NU4usFAzm57ZcGX7UDO25oxoFXJqVhPqXYPF4zByRCa3Tn1mfgUJJYNDLbRjulq8Ti16jqXS2c1ZJs1kABDSZ6kvLMUQ8DgMAUFnReAAACAASURBVG9V+v2e8jXqSAKdPmfZscB+v9tUUBU1g7lIAiOFEXWfJtTnF1cxG46b/o5Z9fsOxxV4nXYMdnhbOPVdm883wELNbHIyGYH5aMJ0D3UltuaYnhRyejYCv8eBYZPXbXc7MNbjyxtLkdu4OKIujUx9JxTV2DldGFEXbtA6v7SK7S00mlUKLaIu30xW6WZ1IOAxdeKbDSeQEdnRLOM9291odzvwwlwU89EkhkzS6u16/bxSjTocVxDwOtDX7mrJiFr6fHONmmlJlmMpKKqoKaL2e5zobnNhYrm4oez0bBS7BvwlBWLfcEfeiNaxqTD8bgfGWrjpqRJmqe/iGrUm3HLm9Nziaks3kkn6/G5EE+mSW7VmS6Smc5GmJ4VMBfPNTiRyOcfj55YhROm0eqkbgFzCcQUdXid62twtWaOWne69XKNmWhE5llKLUANaVF2Y+hZC4NRs1LSRTLJ3OICJ5ZiRwn1uKowDIx2m9o2MhteZI9QWUt/JtIrpULzlG8kAVJyl1hZmVI6o56OJokU0hTPUuWzvbcPZ+RUApX0K+vxuzFtIfXd4nej1u7C0mrK8DKdZWIvPN8BCzWxyZDRQqtu1Ett6fEWp75lwAtFE2rSRTCIbyk5MR5BMqzg1G8FBrk+XxZfT9R2Jy9R3gYWoN9tMNrmsjWZt723dGWpJX5mu7WRaxeJKCoOB8r8DA343FFVgucBQRo52DZnYj+Y28ZWLqCvtug7H00ZErWZEXhd4K7AWVzKAhZrZ5Jyd15q+Ljfx3bbCtm4fpkNxpNIZ49jpMo1kkn05Qn1yJgpFFexIVgFvzhx1NvWdH1E77DYEPA4EV1M4v6jdQHE5oXxELdPZlbbH7RjQbjx/dnYx7/jFYBz9fjfcjuJGtMv6coW6tOtZJXcyuYClVzdv2SwNZY+cWcQPxte+AHJplVPfTAtzdn4FWzq9aHfXZls/2u1DRmR3+QI5Hd8DpSPqfr8Hve2az7HRSDbKEXU5fEbXt4poMg2v0266RUmanpxf4tEsSb9fCrVJM1jE3Ie7kOsu68FlvW3455+dzztuNpolkd97n6u0odBAwIOEkkEkUdqdLCJT33rqd7M0lH3yvtP44L8ey1smU8h9x2dx16Pny76OrMtzRM20JGfmV0y3WFlFNirlen6fno1gqMODjgojQfuGAzgxE8GxyTB6212mHeJMlqzhSRqRuFLUSCaRft/nFlfR6XOaLpFoNXra3bCReUQ9W8KHuxCbjXD7K8ZwdDJk7E0HNKEu7PiWyP6AcoZC/cYstXmdWs0IRJNpvUa9eSJqNSNwajaC1ZSK+07Mmp6TVjP48N3H8T+/dxyPnFk0PQfQUt+uGn2+ARZqZhOjZgTOzq9gx5qEWpqeZDu/KzWSSfYOB3BmLoqnLyzjwJaOlh8hqoTLYYPDRkYzWWEjmaTb50RIj6i541vDbiN0t5m7k1WzPe5XrxqB3+3Al39+HoA23jgTSpS0Hg14nOhtd5e9CRjwl1/4kWtuI1eVbobO73OLmjcCAHznmYum5/zkhQXMhBNoc9nxwX89ZupyCGheDbX6fAO85pK5RHzqvtP40cn5vGPtbjv+8Z1Xoae9trrNxWAcyXQGO9bgrd3X7obbYTM6vxU1gxcXVvCaXebrAnPZNxxAOiNwfimGmw5vqfkaWgmv067XqIsXcki6fC68MLeC5dUUrh7rusRX2Lj0lTAsmQknyqamc2l3O/DWI6P4yqPn8adv2AMASKmZkqlvAHj//3N52ZuA/gqmJ7JxrMPrRJfPBRttjtS39Em4YXc/Hjo9j/loAv3+/O/DN56YRG+7G59755V4+/99FH/5/RP4xFsP5Z3zpUfO4T+en8Vt122r+Vo4ombWnbSawZceOYekomKky4uRLi8GA248eT6IHx43TylZ4YzeSHZFf+XotxQ2G2Frd7bz+9ziKhRVlO34lsjd1ABwaJQbyazgddkRT6mmCzkknT4XFleSmA7zaFYu/SX8vqv1ur/tum1QhcDXHrtgTE0UupLl8q5XbsfrD5RehN1fYbtXrlDb9MzA0mrjR9THpyNw2W34o9ftQkYAdx+dznt8NpzAQ6fn8WtXjeDqsW78zmsux7efnsIDJ+eMc7715CT+4p4TeN2+QfyvG/fWfC0s1My6c3ImitWUig/84g58/rYj+PxtR/Cld12N0W4vHiyIsqvhjD7fuZYaNaClv2VEnW0kK93xLRnraTNGjng0yxo+l11PfaeLOr4l3W1OJNMZCMGNZLmUciebKWHvWYqx3ja8dlc/vvb4BF5a0H6HykXUlWhzO+B3OypH1HrPR2+7CwvRxo+oT0xHsHOwHbsHAzg00lGU/v72U5NQMwLvuHoUAPCBX9yB3YN+fOg7zyG4msLdx6bxx98Zx2t29uH/3HJ4Tct6WKiZdeeJ88sAgGu2dxvHiAg37B7Az15cLOm2VIkzcyvo97vRUSIys8pWfS+1EAKnZyOw2wiX91cWCJuNsHcogC2dXvTWmL5vNbwuh+FMVipVm9s8xqNZWfr8biyuJIvMQuYiyYpmJ4W8+5XbsbSawhcePgeg9HpMq/TrI1pm5EbUANDb3vgRtRACx6fD2DekZcpuvnIEJ2YiODWrpcMzGYFvPjWJV1zeY2R93A47PvW2QwiupvDuLz+JP/jmUVw91o1/fOdVpqNv1cBCzaw7T55bxkiXt2gO87W7+5FQMnj0xaWaXvfsfHRN9WnJ1m4vYinNNOL0bBSX9bZZ/sX6Hzfuxd/82sE1X0Or4HXaEFfSZZvJulioTelr1wxLQjlmIWpGaKnvKp35XnlFD3b0t+P0XBRdPifaahxvlJQzPSkWalfDd33PRhIIxhTD2OhNh4bhsBG+q0fVj5xdxFQwjndcszXvefuGO/B7N+zA0ckQ9g0H8MXbjxjTDmuBhZpZV4QQeOrCMq4Z6y567NrLuuFz2fHAqTmTZ1Z+Xa3ju/b6tER2Fk8sr1ru+JYcHu3EK6/oXfM1tAo+lwPBVQWKKooWckik33eXz1lxRK6VkLufc9PfSytJpDOi4mhWIUSEd71yDMDa0t6SgYCnZEQtO6GlUPe0uw3v61pIqxkoaqbyiWvg+EUtcpbGRt1tLly/qw//fvQi1IzAN56YQJfPiV/eN1D03P96/eX49NsO4St3XFuyvFMtLNTMmoml0kimzdPX5xZXsbiSwhEToXY77HjVjl48eHK+rKuRGTPhBFZT6prr00B23eWJmSimgnFLjWRMbXhdduMPesBboutbH+HhRrJ8zNzJrJqdmPErL9uCDq8T27rX/n2WCz/Mfo/DcQUuh81Ywdnb7kYspSKWKm2QUo73ff0ZvOnvHkFwdf3q3MenIyACduc0jN585QjmIkl8/9g07j8xh5uvHDHNvDnsNtx85UhdbzJZqJk18xtfeBx/8K1jpo89adSnzcdsbtg9gOlwwmjisopsJFvLDLVkpMsLIuBHJ7TIvpx1KLM2fC67YadYKtqQqe/tnPbOo8/ors5GrjNrWErjcznwL+95Of70jXvWfG39fg9SasbUw1vrR8j+rHva5Sx1bUL7zEQIp2ajuP2fn0C0xNzyWjkxE8ZYT1ue4+Frd/fD73Hgf/z780hnBG65ZnRd3tsMFmpmTYRiKTw7EcJ/Pj9ramLw5PkgunxOXN5nLqjX79bmlR88VV3395k5Tdh3lLH5tIrbYcdQwIOfv6g5C3FEvX7IDVpA8UIOSVebE16nHbuH+OeQi5xXzo2o54yIujZXvD16M+RaGQiUNj3RNmdlf9YyM1BLnTocU7AQTeI1O/twYjqCO778ZM2ReTmOT0eM+rTE47TjxoPDWEmmcfVY15rGQquFhZpZE09f0KwI0xmBe0zM6588v4wjY92l7Qf9Hhwc6cibPbTC2fkV9LS5al4bV8jWHh8UVaDNZa/LHy7GnNzGmlLNZG6HHfd+4FW47bqxS3RVm4M2lx1epz1PqGfCCTjtZDh+bRQDZUxP5IpLiYyoazE9Obug3aC/6xVj+N/vOIynLwTx3rueLll6q4VwXMFUMJ7nkyB565ERAMA7X167eUktsFAza+KJ88tw2glX9LfjO89M5T02H0ngwlLMtJEsl9fu7sezk6GqbAXPzK/UvDHLDFmn2zno553S64gvV6jLNNps720zapqMBhFp7mS5Neqw5pa10f/PDvitC7UcZazFRvTMXNY74caDw/j4rx7Ew2cW8btffxbpOjWYnZjObyTL5cqtXfjJH12PNx8arst7WYWFmlkTT55bxsGRTrz9yCiOTYWNJfOAlvYGgKu3lxfqG3YPQAjgx6cXLL2nEAJn5qJ1qU9LZEMZp73XF58rmwK1YnnJ5FNoejIbTlTd8b0e9JfZl10o1N3GBq0ahHp+BV5nNuv1tiOj+JPX78Z9J+bw+LnlWi69iBMzmlAXpr4l23raLrmvPws1UzMJRcVzF8O4eqwbNx0eho2A7z6bjaqfPL8Mr9Nuemeay77hAPr9bst16oWVJCKJdH2FulsT6nKrLZm1kxsll0p9///t3Xt8nHWV+PHPmZnc722T0CZN6b2FlAItF0G5SRFWVFAXWRW8rOIV76gv/a2suK6yi6iIu8rrJ15QV/3putYVFRYUttxboKUFmqS0aZO0SZPmfs/M+f3xPE86SSbJZJLJPEnO+/XylUtn8nwHZ+bM+V7OMeMbXUb0WEcfpT4I1JlpQQqy0mJn1D0jA3VmWpC8zFBCU9/OTFrOiBmEq93s1isDPF37GtopzssYU9c7lSxQm4Q9d7iNwbBy7soiSvIzefXaYv7ruYbhyklPHzzBWRWFpE1SOi8QEC7bUMKjVccZGJp8+qrGnf6aiY1knjOXF1KYncb5qxfP2N80Y3lT3+nBABkxelGbiTmNOZxgqKpORp3Aju9kKInRNCQS1eIy2pLcjIQy6prGzjG1E0rzMggGhPq2mQnULzZ0TJpczDZ7pZiE7Tx0AhHYUuFMbb/5rDLq23p5+tAJOvoGeflYB+dMsj7tuWxDCZ39Q+w8NPn01UwezfIsX5TN81+6gg12NCupvECdnxWytqAJKM7NoKNviD63A1nvYDjhHd8zrTQ/k8bOkRl1Z/8QqmNnT5bkpk/5eFZn3yAN7X1jaieEggFOyc8cbjAyHX2DYWqaumJuJEslC9QmYU8fOsH60rzhg/1XnF5KTnqQ/3y2jmdrW4noyPreE7lwzRLSQ4ExrTBjqW7qJD8zNHyu1Mwd3vGsiTaSmfF5a8HNXf0c7XACk18CtVf0JNpwL+pRgXpxztQz6gPHnZ7xsT6glxdlUT8Dgbq6sYuhiHL6Mn91w7NAbRIyFI7wbG3riIw5Oz3ElZVLuf+FY/xvdTPBgHBWRXxdpXIyQmxdUTRcIGUi1Y1drC3Ns4xsDvKOZ+XZRrKEFEe1lDzmFjvxw2Yy8Op9941oGjK6zrdnSV76cOGbeE1UO6GsKIv6tukH6hePtgOxd3ynkgVqkxCvdeXoHd1vObuMrv4h7nuylspl+SN2+U5mU3kB+491TrpO7dT4nrlpbzN7Tk59W0adiOLck0VPvECdSPnQZCjNc5qGtPacDMDjBerFORm09gxM6UhVTVMX6aEAy2PUJi8vzKKxo2/aNcD3NXSQmxEa3lzqFxaoTUK8zPecU0eWBj1/1WKWFmQyMBSJe33aU7msgIFwhKrG8cuJnugeoKV7YEZqfJvZl5XmfHCzqe/EeBn18c5+jnX0IeJs4vKDk0VPTk5pj59RZ6AKJ3riz6prmrpYtSQnZl/nsqIsIsrwh5dEvdjQwcal/qulYIHaJOSZQ7FbVwYCwjVnlQGTn58ebVOZsy60t7593Nt457QtUM9N0ZvJzNQtzk1H5GRGvSQ3Y9JTFbPl5Fnqk8Fy3EDtnaXujD9QVzd1jXvSo6zQyYCns6EsElFeOtrhu41kYIHaJEBVeeZQ7NaV4JT3u+H8Fbxm7dTaP65YnE1eZogXJgjU1U0zV+PbzL6Ta9SWUSciLRhgUXY6TZ39HG2feh/qZPLOHTfFmVEDtHTHt6GsdyDMkdYe1ozTM8Br1TmddepDLd10D4R9t5EMLFCbSXzu13v4x+37RmwQmah1JThTYF+5pnJK69PglEg8fVk+e90SfrFUN3aRkx5kmU820JipGc6obTNZwrzqZI0dfb7Z8Q0nM+rooicdvYOEAjKidCwwXJs83p3fB453oQprS2MH6mWFzn+HutbEz1J7CcLpZf7LqO3VYsYViSi/211P36CzQePWN5yGiLDTLQ06XuvK6dhUVsCPn6hlMByJOaVX1djJ6pJc2/E9R+VlpvFP11Ry6YaSVA9lzip2q5Mdbe+L+/jjbMgIBSnKThtxlrq9d5D8rLQxr9fhjDrOs9Q1k9ROyAgFKcnLmNYRrT117WSEAqzz4WzdtDJqETkkIi+IyPMistP93SIReVBEqt2vM/9ubmbFkdYe+gYjrC3J5UePH+IbD1QBzvnpiVpXTkdlWQEDQ5Hh4vvR+gbD7KptZcsKe0rNZe88f4V1KJuG4rwMjpzoob13cHgDl1+U5meO2Uw2etobIC8jRHowMKIc6kSqmzoJBYQVE/Qon+4RrT11bZy+LN83a/7RZmJEl6rqmaq61f3588BDqroWeMj92cxBVW6w/PpbzuD6c5Zz919q+Pe/Hpi0deV0VHobyhrGrlM/ffAE/UMRLl5XPOPXNWauKM7L4IR7BtkvZ6g9JfmZwyVO4WRGPZqITKk6WXVjF6cuySF9grKzZYWJB+qhcIS99R2cUR5f3YfZloyPDm8Cfux+/2PgmiRcw8wC75jUutJcvnrtJt64eRm3/+nluFpXJmrl4hxy0oMxd34/UnWc9FCA81ZaPW6zcEU3i/DTGjU4R8WiM+qOcTJqgMVTqPcdT+2EsqIsjraNLLgSr5rjXfQOhtm83H8byWD6gVqBB0Rkl4jc5P6uVFWPArhfbTFqjqpq7GRZQSZ5mWkEA8I3rtvM5RtLAXhVkppXBALC6csKYgbqR6uOc97KRcM7h41ZiKJL5/pp1zdAab6zfu4Fy/GmviH+et/9Q2EOtXRPGqjLC7MYCEfink6PtqfOeb/xa0Y93c1kF6pqg4iUAA+KyMvx3tEN7DcBVFRUTHMYJhn2H+tkXVR/5rRggH97x9lUNXYOT1EnQ2VZAT9/upahcGS4uEFDWy/VTV287ZzlSbuuMXNBcW5UoPZZRl2an0k4orR0D1Ccl+EG6thhZnFuBi8fG7+4kedQcw8RhTWTbPLyjmjVtfZMee1+T10beRkhVk6wBp5K08qoVbXB/doE/BY4F2gUkaUA7teYXRZU9R5V3aqqW4uLbc3Rb4bCEV453j1mB2R6KJDUIA2wqTyfvsHIcBF+cLJpgItsfdoscF5GnZ8ZmvIRyGTzpuUbO/pQVTr6xra49CzJzaClawDViaeqh2snTJZRFyVe9GRPXTuVZQW+q0jmSThQi0iOiOR53wNXAHuB7cC73Ju9C/jddAdpZl/tiR4GwpGUHFWoXDa2QtkjVcdZWpBpNb7NguedVx5dFdAPSqOqk3UPhAlHdMKp74FwhI6+oQn/ZnVjFwGBlUsmzna9kwRT3VDWPxTmpaMdnOHT9WmYXkZdCuwQkd3A08AfVPVPwNeBbSJSDWxzfzZzTNWxkxvJZtuq4lyy04PDBQiGwhF21DRz0dpiOz9tFry8jBAZoYDvpr1hZL1vryrZeHXdl+R6Z6knXlOuaeqiYlE2mWkT703JyQhRmJ025bPULx/tZDCsbPbp+jRMY41aVV8BNsf4fQvw2ukMyqSedzQrFTW1gwHhtKX57HOPaD1/pI3OviEuXm/T3sZ4FfwqfVhBywu+jR19tPfELh/q8YL64RM9rJqgJkN1UydrSuKb2UvkiNaeem8j2fzMqM08VtXUScWi7JStgVWWFbCvoYNwRHm06jgBgQtXT612uDHz1W8+dAGfuWJ9qocxRnoowOIcpxb5eHW+PZvKCwgIPHe4bdy/NxiOcLC5e9zSoaOVFWZNOaPec6SNRTnpvi7CY4HaxFR1rDMl096eyrICegbCHGzu4pHqZs5cXkhBtjVyMAacrNqvy0Be0ZPhqe9xAnVuRoj1p+Tz7OHWcf9WbUsPg2GNe2+KV51ssg1q0fbUtXNGeYFv/3uCBWoTw8CQ9yk2dTVvvWm9R6ua2VPXxsXr7Di+MXNBab5T9KRjkowaYMuKQp473EZ4nCIlu4842fbGOFtPlhVm0TMQptWddp9Mz8AQ1U2dvj0/7bFAbcY42NzNUERZn8JAvaY4l8y0AD/YcRBVuGidTXsbMxeU5mU6a9ReoJ5gJmzLiiK6+oeGj2CN9tiBZhblpMf9XuQd0Yp3+ntvfQcRhc0+Xp8GC9QmBq90aLzrQskQCgbYuDSf+rZeCrPTfP+J1xjjKM13SoOe6BkgIJA7wT6XLRVOKeJdtWOnv1WVx2qaedXqxXGfby4f7ksdX7vLPXVOxu739xcL1GaM6sZOAkJSumNNhXee+tVrlhD0aSECY8xIxfmZRBQOHu8mLzNtwiC7fFEWS3LTYwbqA8e7aezo59Vr4p9N8zaExVv0ZE9dO8sKMkeUZfUjC9RmjP2NnZy6OGfSc4vJtsmtgGbdsoyZO0rdoFfV1Dnh+jQ4m+LOriji2RiB+vEDzcDUTnsUZqeRnR6M+4jWnro2Nvl82hssUJsYqhu7Ujrt7dl2WinvOK+CKytPSfVQjDFx8s5H17b0TBqowVmnPtTSM6aT1o7qZpYvyqJicXbc1xaRuI9otfcMcqilx/fT3mCB2ozSN+h0qknlRjJPUU46X712E3njVDYyxviPF6gnKh8abcuKIoARWXU4ojzxSktCtRPKirLimvreU++sT/u5IpnHArUZ4cDxLiJKSo9mGWPmriW56XhHkuMJ1JVlBaQFhV1R56lfqG+ns2+IC6ewPu0pL4qvOpnX2tKmvs2cU+2WDk1FMw5jzNwXCgaGS4mOV+wkWmZakMqyAp6rPVmh7LEaZ336ggT63pcVZtPeO0hX//jNPlSdiocrl+TE9WEi1SxQmxH2N3YSCsiknWqMMWY8Je6GsniD4NkVReyua2NgKAI4gXrj0nwW5059N7bXl3qider/t6uOpw6e4IbzV0z576eCBWozQnVjJyuX5JAesqeGMSYx3jp1vIF6y4oi+ocivHi0g77BMDtrW7kwgWwaottdxj5LXd/Wy1d+/yLnrVzEuy84NaFrzDZ/dR03KVfV2DUn1myMMf7l9aXOz4ovxHgbynbVttLVN8TAUIQL1yZWjbB8goxaVfncr/cQVuVf37o57kIqqWZp0wLW2NHH4Zae4QL2PQNDHD7Rw7o4W8oZY0wsJXlTy6hL8zMpK8zi2dpWHjvQTCggnHvqooSuXZybQXowQF2MDWU/feowO2qa+eLrN07p2FeqWUa9QHX3D/H6u3bQ3NVPUXYam5cXsrTA+SSayq5Zxpi5b6pT3+Bk1U8dbOFIaw9nVRSSk5FYeAoEhKWFmdQ0dtE/FCYj5BRuqm3p5p//8BKvWbuEt59bkdDfThUL1AvUvTsO0tzVz6e2raO+tZfddW3DfZ8ry2zq2xiTuLWluYicbJIRjy0riti+u4HGjn4+cfnaaV1/TXEuD73cROWtf+a0pflsXl7I7iNthILC7W85w9ctLWOxQL0AtXYPcM+jr7DttFI+9tqTL4ju/iFaewam9OIyxpjRzjl1EU994bXDU+DxOLuiaPj7RM5PR7vzbWfyeE0zz9e1sftIG7/ZVUf3QJg7r9vMMnez2VxigXoB+t4jB+gaGOIzV6wf8fucjFDC003GGBNtKkEaYMPSPLLSggQEzlw+vWphBVlpXLVpKVdtWgo4lc5auvopyZ/amPzC3pUXmGPtffzo8UNce2YZ60+xTWPGGH9ICwa4bEMJGaEAacGZ3eccDMicDdJggXrBuevhaiKqfHLbulQPxRhjRvjuO85O9RB8yY5nLSCHmrv51TNH+LtzK1i+yNahjTFmLrBAvYDc+WAVoaDw0cvWpHooxhhj4mRT3/NQJKLc9XA1e+s7hn+nqjz0chMfumT1lDd5GGOMSR0L1POMqnLr9n3c92Qta0tyR2zKuGD1Yj540eoUjs4YY8xUWaCeR1SV2/+0n/uerOUDF63i81dtmHMH+40xxoxka9TzyHf/UsP3HjnAO8+vsCBtjDHzhAXqeeKHjx3kjgeqePNZZdz2xkoL0sYYM0/Y1Pccs/PQCf7x9/uobRnZa7Wzb4grTz+Ff3nrGXOmdZsxxpjJWaCeI9p7B7n9Ty/z86cOU1aYxVvOLic6aV6Sm8H7XrOS0AxX9DHGGJNaFqhnUd9gmIxQYErT0qrKH/ce49bt+2jp6ufvX72ST21bZzW5jTFmgbB3+yRRVfY1dPD8Ead7y+66Nqqbunj/a1bxhb/ZOOn9+wbD/H53Az95opYX6ts5fVk+977rHDaVWwtKY4xZSCxQJ8k9j77C1/74MgCLctLZXF5AbkaIHz9+iJsuWsWS3IyY92to6+UnT9Tyy2cO09ozyLrSXP752k1ct7XcprWNMWYBskCdBK3dA9z9cA0XrSvmq9dUUl6UhYhw4HgXl9/5CD987CC3vG5DzPtd/Z0dtPcOcsVppdz4qlM5f9Ui28FtjDELmAXqJPD6PX/xbzaOaH6xujiXqypP4SeP1/KBi1eTn5k24n7/+sB+2nsH+d1HLqSyzKa4jTHG2DnqGef1e75mnH7PH75kDZ39Q/z0ydoRv3+hrp3/ePow73rVqRakjTHGDLNAPcPueriacET55OWx+z1XlhVw0bpi7t1xkL7BMOA00fjS9r0szknnE9vWzuZwjTHG+JwF6hkU3e+5YvH4/Z4/fMlqmrsG+NXOIwD853P1PHe4jc9ftXHMdLgxxpiFzQL1DPL6Pd88Sb/n81Yu4uyKQr7/yCucq53AaQAACxhJREFU6B7g6398ibMrCnnzWWWzNFJjjDFzRdICtYhcKSL7RaRGRD6frOskU2v3AH/Z38TdD1fzs6dq2VvfzmA4EvO2LzZ0sH13A++5cCUl+RP3exYRPnLpGurbern+nido6R7gtjdVWulPY4wxYyRl17eIBIHvAtuAOuAZEdmuqi/Guv2x9j7uf+Eom5cXsqwgc9zjSKrKkRO9PF/Xxr6GdkryMjlzeQGnLysgMy04rTH3DYbZ19DO80fahwuUjK6nDZARClBZVsC60lyCUYF1V20b+ZmhuPs9X7ahhA2n5PHysU7efl6FbSAzxhgTU7KOZ50L1KjqKwAi8gvgTUDMQN3c1c+Hf/Ys4NSs3lxeQEHWyLXalu4B9tS10doz6Aw8IAxFFIBgQFhfmsfa0lyCUzxzHFalurGL/Y2dhN2/t6wgk83LC/m7cyvYXF5IZVk+bT2DI6qMPfhiI6on/44I3HLlBgqy41tjFhG++PqN3P1wDbdcsX5KYzbGGLNwiEZHm5n6oyJvBa5U1fe5P98AnKeqH426zU3ATQAVFRVbtu/Yze66Np4/0sbe+nZ63R3Rnpz0EGeUF7B5eSGbywtZf0oerd0D7K47mQEfaulOaLynLs5hc3mh+7cLJp26NsYYY6ZLRHap6tZJb5ekQP23wOtGBepzVfXmWLffunWr7ty5c8bHYYwxxvhVvIE6WZvJ6oDlUT+XAw1JupYxxhgzbyUrUD8DrBWRlSKSDlwPbE/StYwxxph5KymbyVR1SEQ+CvwZCAL3quq+ZFzLGGOMmc+S1pRDVe8H7k/W3zfGGGMWAqtMZowxxviYBWpjjDHGxyxQG2OMMT5mgdoYY4zxMQvUxhhjjI9ZoDbGGGN8zAK1McYY42NJqfU95UGI9AKpLIhSALQvwGun+vrxXHsJ0JzC6yeT3//bz4XrJ/L8mC+Pfa5d2w/XT+b7yWRiPfb1qpo36T1VNeX/A46n+Pr3LMRrp/r68Vwb2DkfH3uqrz9fHnsiz4/58tjn2rV9cv2kvZ8k8tjjHY9fpr7bUnz93y/Qa6f6+gv5saf6+vbYF+b1F/JjT7WEH7tfpr53ahytvszCY88NMxF7fpip8NvzJd7x+CWjvifVAzC+Zc8NMxF7fpip8NvzJa7x+CKjNsYYY0xsfsmojTHGGBODBWpjjDHGxyxQm1klIpLqMRhj5p/5/N5igdrMChEJAqhtijBTJCL2PmUmJCKB+fzeYi8AMytUNQwgIheLyB0isijVYzJzg6pGRCRXRJameizGX7wPce5zpFJEviwim1I9rplmgdokjfciEpGgiBSIyC+BbcAfVfVEakdn5phvAR8Cy7DNmACdKSJXAd8BVgGfE5EPRt9urpsXD8L4y6gXUVBVw6raDpwPbFTVh0QkLbWjNH4zeo1RRFZ5SybAb4ANIiKqGpn90Rk/GfUcuAP4NnCLqt4A/Ay4TkSWuu9Bc37t2gK1mXHei0hEPgxsF5HPikgW8BbgSvc2g/PhBWRmhvuBTqN+Xofzhnuzu0zSBBxWVZ0vWZJJjDhKRORWEdkKfAUQINe9yePAs8CnYX7si7EnvJk2EblURFZG/bxGRH4IVOJ80t0M/AuwGydwf8+9qT3/DG6WHBaRHPfN92LgEPBWYDnwTfemV4tIpmXUC4uI3Cki/8f9vtgNvG1AKbBNVRtxPtR9HMCdvfsZsE1EzkzRsGeUvVGaaXGznZ8DPxaR97q/3gi8DfgvVX0A+CfgBHAd8BHgvSKy3ttgZhYeEfmwiHwNnIxHRN6OkwllAhcBP1DVelX9NNCJ89zJxvnQZxaW3wKfFJH1wHdF5HJVHQB+BawRkW3Al4GVIvIm9z4vAe9T1edTM+SZZYHaTFcYZ5rpP4D3i8g7gB3A94HrAVT1JZypqZXuJrJvA2elZrjGJ24BbnA3AQEMAFcB9wGXApeJyLvdf/si8DDOc01hfp+ZNSe5x67+F3gA+BrOXoUbAVT1r8Bh4Fr35t9yb4Oq9qnqM7M+4CSxQG0S5k5ZtuNky7nAx4CLcXbn/gYoFJHr3JsXAt5Z6ltU9RcpGLJJEREpFpHF7vdB4F7gzzgf7rJV9dc4H95+hjMD82mc9emAqrar6p+BP+EE83mx7mji4v3//BHgMiACtIvIje7v/wd4A072/CPgmlkf4SywQG1mwm+BNPcT7F7gk8ANwH7gDhH5AbAWJ+sezoYsK1oYRGQV0AjcDsNn6guBF4EXgE+4N10PfF9VH8Z5Q14DfCHqT+UBVbM0bOMD3uZBdybum8DncJKAz4rIZuD1OMH6aff2VfPxfcUCtUlYVFaTA5wpIr8APoAzrVmCs9ZYD+xX1atUtSr6ft5X7wjOfHyBGVDVV3CWQ14nIu8VkbNx1hcvBv4KXCAiJUAGcI67ceha4L3A3QAisgUn2P9h9h+BSSVv86CqfhkoxvmQ5x3JCqvqe1R1d9Tt591si7W5NNMmIkXAK8BPVfVm93ergA04U+I3A29U1dZR97sQuMm973esCMr8JSLlwB7gTcA/4OxhWA38Evgg0A/cBvwt8GbgTlV9Kur+Mh/fgE183Kw6IiLXA19S1dNEJN3dVDb87ykeZtJYoDbT5mbCdwL3q+qDXpET999KgatxMqiuqCx6Fc6U+TdxMu9e9/6WMc1TIvJ/cXZ2HwS+AaQBZ+KsTX8b+IyqPhF1e4H5mSGZqYsK1v8DfE9Vf+3OxkXm+3MklOoBmHljNZDpnYmN+n2Tqv4gxu3PAV5S1R+JyO9wzsxeLSJ7VPXIbAzYzLqP4wTpcpzje5fjHLl6CfjUqAx6XmdIZurcIJ0HdOPMwqEL5IinZdRmRojIoommrkXkDcAKYKeqPulm1PcB16vqERE5DWcD2lFVvWt2Rm1mm4h8ANiqqu+Pnro0Jh4icinO8b0vL5QgDRaozQwbvZYoTseje4AC4EHg7cAnVPXPInIHTmD+hjuF9Xacnb5fU9W+FAzfJJlb/vMEsEVVD6R6PGZuWah7FWzXt5lRMV5EW4EdqnqRqn4FZy3y/e6/7QA2ici57qfjeuBCC9LzlzudvU5VD9gufzNVCzFIgwVqkwQicqOIXCIiGcBDwE+i/rkFqHa/fxJ4DviWiOQCpwOHRSR7VgdsZpWqNrlfF+SbrjFTZZvJzIxws6NTcOp+R4ADOJnzx1X1qIikqeogsBQoAlDVY8C3RWQFTqWqFcCNqtqTisdgjDF+ZIHaTJt3HMvdkVmvqu8UkRDO0at7cM7Fejt4t+FMfyMiJW529VkgS1U7UzB8Y4zxNQvUJmFuML4NCIrI/UA+TuMEVHVIRD4GNIjIxar6iIikA8eBKhH5Ks5xrEvcQigWpI0xJgZbozYJcXsG78KZxq7Bad4+CFwqIufC8BrkbTgt6MBpYfhunHXrPODy0dXKjDHGjGQZtUlUBLhDVe8DEJGzgJXAl4B/B7a4R3F+ixO8y4FlwE9xykPOiz6xxhiTbJZRm0TtAn7lNdQAHgMq3FZzQRG52T2KU45T4q9OVZ9W1RstSBtjTPwsUJuEqGqPqvZHVQfahrP+DPAeYKOI/DdOa8tdYN2xjDEmETb1babFzagVKAW2u7/uxOkjXAkcVNV6sHOzxhiTCMuozXRFcLogNQNnuFn0P+BMd+/wgrQxxpjEWK1vM20icj5O+8LHgR+O0y3LGGNMAixQm2lzd3TfgLObuz/V4zHGmPnEArUxxhjjY7ZGbYwxxviYBWpjjDHGxyxQG2OMMT5mgdoYY4zxMQvUxhhjjI9ZoDbGGGN8zAK1McYY42P/H2XMwpdWtWU5AAAAAElFTkSuQmCC\n",
      "text/plain": [
       "<Figure size 576x432 with 1 Axes>"
      ]
     },
     "metadata": {
      "needs_background": "light"
     },
     "output_type": "display_data"
    }
   ],
   "source": [
    "# Getting the daily cases\n",
    "daily_cases = cumulative_daily_cases.diff()\n",
    "daily_cases = daily_cases.iloc[1:]\n",
    "\n",
    "# Visualizing the daily cases\n",
    "daily_cases.plot(subplots=True)\n",
    "plt.title(\"Daily cases in Morocco\");"
   ]
  },
  {
   "cell_type": "code",
   "execution_count": 7,
   "metadata": {
    "slideshow": {
     "slide_type": "skip"
    }
   },
   "outputs": [
    {
     "data": {
      "text/plain": [
       "(100, 1)"
      ]
     },
     "execution_count": 7,
     "metadata": {},
     "output_type": "execute_result"
    }
   ],
   "source": [
    "# Now we get only the observations and drop the dates.\n",
    "data = daily_cases.to_numpy()\n",
    "data.shape"
   ]
  },
  {
   "cell_type": "markdown",
   "metadata": {
    "slideshow": {
     "slide_type": "slide"
    }
   },
   "source": [
    "Now that we have the data prepared to use, next stup is to go through the models one by one and explore their codes.\n",
    "\n",
    "## 2-1 Autoregression (AR) \n",
    "The autoregression (AR) method models the next step in the sequence as a linear function of the observations at prior time steps.\n",
    "\n",
    "\\begin{equation}\n",
    "\tY_{t} = c + \\phi_{1}Y_{t-1} + \\phi_{2}Y_{t-2} + ... + \\phi_{p}Y_{t-p} + \\epsilon_{t},\t\n",
    "\\end{equation}\n",
    "\n",
    "The notation for the model involves specifying the order of the model $p$ as a parameter to the $AR$ function, e.g. $AR(p)$. For example, $AR(1)$ is a first-order autoregression model.\n",
    "\n",
    "The method is suitable for univariate time series without trend and seasonal components.\n",
    "\n",
    "### Python Code"
   ]
  },
  {
   "cell_type": "code",
   "execution_count": 8,
   "metadata": {
    "slideshow": {
     "slide_type": "subslide"
    }
   },
   "outputs": [
    {
     "name": "stdout",
     "output_type": "stream",
     "text": [
      "[126.04789426]\n"
     ]
    }
   ],
   "source": [
    "# AR example\n",
    "from statsmodels.tsa.ar_model import AutoReg\n",
    "\n",
    "# fit model\n",
    "model = AutoReg(data, lags=1)\n",
    "model_fit = model.fit()\n",
    "# make prediction\n",
    "yhat = model_fit.predict(len(data), len(data))\n",
    "print(yhat)"
   ]
  },
  {
   "cell_type": "markdown",
   "metadata": {
    "slideshow": {
     "slide_type": "slide"
    }
   },
   "source": [
    "## 2-2 Moving Average (MA)\n",
    "\n",
    "The moving average (MA) method models the next step in the sequence as a linear function of the residual errors from a mean process at prior time steps.\n",
    "\n",
    "\\begin{equation}\n",
    "Y_{t} = \\mu + \\epsilon_{t} + \\theta_{1}\\epsilon_{t-1} + \\theta_{2}\\epsilon_{t-2} + ... + \\theta_{q}\\epsilon_{t-q}\t\n",
    "\\end{equation}\n",
    "\n",
    "A moving average model is different from calculating the moving average of the time series.\n",
    "\n",
    "The notation for the model involves specifying the order of the model $q$ as a parameter to the $MA$ function, e.g. $MA(q)$. For example, $MA(1)$ is a first-order moving average model.\n",
    "\n",
    "The method is suitable for univariate time series without trend and seasonal components.\n",
    "\n",
    "### Python Code\n",
    "We can use the ARMA class to create an MA model and setting a zeroth-order AR model. We must specify the order of the MA model in the order argument."
   ]
  },
  {
   "cell_type": "code",
   "execution_count": 9,
   "metadata": {
    "slideshow": {
     "slide_type": "subslide"
    }
   },
   "outputs": [
    {
     "name": "stdout",
     "output_type": "stream",
     "text": [
      "[112.35114526]\n"
     ]
    }
   ],
   "source": [
    "# MA example\n",
    "from statsmodels.tsa.arima_model import ARMA\n",
    "\n",
    "# fit model\n",
    "model = ARMA(data, order=(0, 1))\n",
    "model_fit = model.fit(disp=False)\n",
    "# make prediction\n",
    "yhat = model_fit.predict(len(data), len(data))\n",
    "print(yhat)"
   ]
  },
  {
   "cell_type": "markdown",
   "metadata": {
    "slideshow": {
     "slide_type": "slide"
    }
   },
   "source": [
    "## 2-3 Autoregressive Moving Average (ARMA)\n",
    "\n",
    "The Autoregressive Moving Average (ARMA) method models the next step in the sequence as a linear function of the observations and resiudal errors at prior time steps.\n",
    "\n",
    "\\begin{equation}\n",
    "Y_{t} =  \\phi_{1}Y_{t-1} + \\phi_{2}Y_{t-2} + ... + \\phi_{p}Y_{t-p} + \\epsilon_{t} + \\theta_{1}\\epsilon_{t-1} + \\theta_{2}\\epsilon_{t-2} + ... + \\theta_{q}\\epsilon_{t-q},\t\n",
    "\\end{equation}\n",
    "\n",
    "It combines both Autoregression (AR) and Moving Average (MA) models.\n",
    "\n",
    "The notation for the model involves specifying the order for the $AR(p)$ and $MA(q)$ models as parameters to an $ARMA$ function, e.g. $ARMA(p, q)$. An $ARIMA$ model can be used to develop $AR$ or $MA$ models.\n",
    "\n",
    "The method is suitable for univariate time series without trend and seasonal components.\n",
    "\n",
    "### Python Code"
   ]
  },
  {
   "cell_type": "code",
   "execution_count": 10,
   "metadata": {
    "slideshow": {
     "slide_type": "subslide"
    }
   },
   "outputs": [
    {
     "name": "stdout",
     "output_type": "stream",
     "text": [
      "[102.81977067]\n"
     ]
    }
   ],
   "source": [
    "# ARMA example\n",
    "from statsmodels.tsa.arima_model import ARMA\n",
    "\n",
    "# fit model\n",
    "model = ARMA(data, order=(2, 1))\n",
    "model_fit = model.fit(disp=False)\n",
    "# make prediction\n",
    "yhat = model_fit.predict(len(data), len(data))\n",
    "print(yhat)"
   ]
  },
  {
   "cell_type": "markdown",
   "metadata": {
    "slideshow": {
     "slide_type": "slide"
    }
   },
   "source": [
    "## 2-4 Autoregressive Integrated Moving Average (ARIMA)\n",
    "\n",
    "The Autoregressive Integrated Moving Average (ARIMA) method models the next step in the sequence as a linear function of the differenced observations and residual errors at prior time steps.\n",
    "\n",
    "\\begin{equation}\n",
    "\\phi_{p}(B)(1 - B)^{d}Y_{t} = \\theta_{0} + \\theta_{q}(B)\\epsilon_{t},\n",
    "\\end{equation}\n",
    "where, \n",
    "$$\\phi_{p}(B) = (1 - \\phi_{1}B - \\phi_{2}B^{2} - ... - \\phi_{p}B^{p}),$$\n",
    "and, \n",
    "$$\\theta_{q}(B) = (1 +  \\theta_{1}B + \\theta_{2}B^{2} + ... + \\theta_{q}B^{q})$$.\n",
    "\n",
    "\n",
    "- The random error $\\epsilon_{t} $ is a white noise process.\n",
    "- $\\phi_{i}\\{i = 1, 2, ..., p\\}$, $\\theta_{i}\\{i = 0, 1, 2, ..., q\\}$ are the model parameters.\n",
    "- The backshift operator $B^{j}Y_{t} = Y_{t-j}$.\n",
    "\n",
    "It combines both Autoregression $(AR)$ and Moving Average $(MA)$ models as well as a differencing pre-processing step of the series to make the time series stationary, called integration ($I$).\n",
    "\n",
    "The notation for the model involves specifying the order for the $AR(p)$, $I(d)$, and $MA(q)$ models as parameters to an $ARIMA$ function, e.g. $ARIMA(p, d, q)$. An $ARIMA$ model can also be used to develop $AR$, $MA$, and $ARMA$ models.\n",
    "\n",
    "The method is suitable for univariate time series with trend and without seasonal components.\n",
    "\n",
    "### Python Code"
   ]
  },
  {
   "cell_type": "code",
   "execution_count": 11,
   "metadata": {
    "slideshow": {
     "slide_type": "subslide"
    }
   },
   "outputs": [
    {
     "name": "stdout",
     "output_type": "stream",
     "text": [
      "[105.77485568]\n"
     ]
    }
   ],
   "source": [
    "# ARIMA example\n",
    "from statsmodels.tsa.arima_model import ARIMA\n",
    "\n",
    "# fit model\n",
    "model = ARIMA(data, order=(1, 1, 1))\n",
    "model_fit = model.fit(disp=False)\n",
    "# make prediction\n",
    "yhat = model_fit.predict(len(data), len(data), typ='levels')\n",
    "print(yhat)"
   ]
  },
  {
   "cell_type": "markdown",
   "metadata": {
    "slideshow": {
     "slide_type": "slide"
    }
   },
   "source": [
    "## 2-5 Seasonal Autoregressive Integrated Moving-Average (SARIMA)\n",
    "\n",
    "The Seasonal Autoregressive Integrated Moving Average (SARIMA) method models the next step in the sequence as a linear function of the differenced observations, errors, differenced seasonal observations, and seasonal errors at prior time steps.\n",
    "\n",
    "\\begin{equation}\n",
    "\\Phi_{P}(B^{s})\\phi_{p}(B)(1 - B)^{d}(1 - B^{s})^{D}Y_{t} = \\theta_{q}(B)\\Theta_{Q}(B^{s})\\epsilon_{t},\n",
    "\\end{equation}\n",
    "\n",
    "where $\\Phi_{P}(B^{s}) = 1 + \\Phi_{1}B^{s} + ... + \\Phi_{P}B^{s+P} $ et $\\Theta_{Q}(B^{s}) = 1 + \\Theta_{1}B^{s} + ... + \\Theta_{Q}B^{s+Q} $.\n",
    "\n",
    "It combines the ARIMA model with the ability to perform the same autoregression, differencing, and moving average modeling at the seasonal level.\n",
    "\n",
    "The notation for the model involves specifying the order for the $AR(p)$, $I(d)$, and $MA(q)$ models as parameters to an $ARIMA$ function and $AR(P)$, $I(D)$, $MA(Q)$ and $s$ parameters at the seasonal level, e.g. $SARIMA(p, d, q)(P, D, Q)s$ where “s” is the number of time steps in each season (the seasonal period). A SARIMA model can be used to develop AR, MA, ARMA and ARIMA models.\n",
    "\n",
    "The method is suitable for univariate time series with trend and/or seasonal components.\n",
    "\n",
    "### Python Code"
   ]
  },
  {
   "cell_type": "code",
   "execution_count": 12,
   "metadata": {
    "slideshow": {
     "slide_type": "subslide"
    }
   },
   "outputs": [
    {
     "name": "stdout",
     "output_type": "stream",
     "text": [
      "[102.03810469]\n"
     ]
    }
   ],
   "source": [
    "# SARIMA example\n",
    "from statsmodels.tsa.statespace.sarimax import SARIMAX\n",
    "\n",
    "# fit model\n",
    "model = SARIMAX(data, order=(1, 1, 1), seasonal_order=(1, 1, 1, 2))\n",
    "model_fit = model.fit(disp=False)\n",
    "# make prediction\n",
    "yhat = model_fit.predict(len(data), len(data))\n",
    "print(yhat)"
   ]
  },
  {
   "cell_type": "markdown",
   "metadata": {
    "slideshow": {
     "slide_type": "slide"
    }
   },
   "source": [
    "## 2-6 Simple Exponential Smoothing (SES)\n",
    "\n",
    "The Simple Exponential Smoothing (SES) method models the next time step as an exponentially weighted linear function of observations at prior time steps.\n",
    "\n",
    "The simple exponential smoothing formula is given by: \n",
    "\\begin{equation}\n",
    "\\hat{Y}_{t}(h) = \\alpha Y_{t} + (1 - \\alpha)\\hat{Y}_{t-1}(h),\n",
    "\\end{equation}\n",
    "\n",
    "where $\\alpha$ is the data smoothing factor, $0 < \\alpha < 1$.\n",
    "\n",
    "The method is suitable for univariate time series without trend and seasonal components.\n",
    "\n",
    "### Python Code"
   ]
  },
  {
   "cell_type": "code",
   "execution_count": 13,
   "metadata": {
    "scrolled": true,
    "slideshow": {
     "slide_type": "subslide"
    }
   },
   "outputs": [
    {
     "name": "stdout",
     "output_type": "stream",
     "text": [
      "[103.40220658]\n"
     ]
    },
    {
     "name": "stderr",
     "output_type": "stream",
     "text": [
      "C:\\Users\\hp\\Anaconda3\\lib\\site-packages\\statsmodels\\tsa\\holtwinters.py:731: RuntimeWarning: invalid value encountered in greater_equal\n",
      "  loc = initial_p >= ub\n"
     ]
    }
   ],
   "source": [
    "# SES example\n",
    "from statsmodels.tsa.holtwinters import SimpleExpSmoothing\n",
    "\n",
    "# fit model\n",
    "model = SimpleExpSmoothing(data)\n",
    "model_fit = model.fit()\n",
    "# make prediction\n",
    "yhat = model_fit.predict(len(data), len(data))\n",
    "print(yhat)"
   ]
  },
  {
   "cell_type": "markdown",
   "metadata": {
    "slideshow": {
     "slide_type": "slide"
    }
   },
   "source": [
    "## 2-7 Holt's exponential smoothing\n",
    "\n",
    "Holt's exponential smoothing (HES) also called the double Exponential Smoothing method models the next time step as an exponentially weighted linear function of observations at prior time steps, taking trends and into account.\n",
    "\n",
    "The Holt's exponential smoothing formula is given by: \n",
    "\\begin{equation}\n",
    "\\hat{Y}_{t}(h) = ha_{t} + b_{t},\n",
    "\\end{equation}\n",
    "where, $b_t$ is the level: \n",
    "\\begin{equation*}\n",
    "b_{t} = \\alpha Y_{t} + (1 - \\alpha)(b_{t-1} + a_{t-1}),\n",
    "\\end{equation*}\n",
    "and $a_t$ is the slope: \n",
    "\\begin{equation*}\n",
    "a_{t} = \\beta(b_{t} - b_{t-1}) + (1 - \\beta)a_{t-1}.\n",
    "\\end{equation*}\n",
    "\n",
    "where $\\alpha$ is the data smoothing factor, and $\\beta$ is the trend smoothing factor, and $0 < \\alpha < 1, 0 < \\beta < 1$. \n",
    "\n",
    "The method is suitable for univariate time series without seasonal components.\n",
    "\n",
    "### Python Code\n",
    "\n"
   ]
  },
  {
   "cell_type": "code",
   "execution_count": 14,
   "metadata": {
    "slideshow": {
     "slide_type": "subslide"
    }
   },
   "outputs": [
    {
     "name": "stdout",
     "output_type": "stream",
     "text": [
      "[105.33960379]\n"
     ]
    },
    {
     "name": "stderr",
     "output_type": "stream",
     "text": [
      "C:\\Users\\hp\\Anaconda3\\lib\\site-packages\\statsmodels\\tsa\\holtwinters.py:731: RuntimeWarning: invalid value encountered in greater_equal\n",
      "  loc = initial_p >= ub\n"
     ]
    }
   ],
   "source": [
    "# SES example\n",
    "from statsmodels.tsa.holtwinters import Holt\n",
    "\n",
    "# fit model\n",
    "model = Holt(data)\n",
    "model_fit = model.fit()\n",
    "# make prediction\n",
    "yhat = model_fit.predict(len(data), len(data))\n",
    "print(yhat)"
   ]
  },
  {
   "cell_type": "markdown",
   "metadata": {},
   "source": [
    "## 2-8 Holt Winter’s Exponential Smoothing (HWES)\n",
    "\n",
    "The Holt Winter’s Exponential Smoothing (HWES) also called the Triple Exponential Smoothing method models the next time step as an exponentially weighted linear function of observations at prior time steps, taking trends and seasonality into account.\n",
    "\n",
    "\\begin{equation*}\n",
    "\t\\hat{Y}_{t}(h) = ha_{t} + b_{t} + s_{t-m+h_{m}^{+}}\n",
    "\\end{equation*}\n",
    "\n",
    "Where $h_{m}^{+} = [(h - 1)\\mod m] + 1 $, $m$ is the period of seasonality $s_{t}$   \n",
    "\n",
    "When the observation $Y_t$ becomes available, the components are updated starting with the level:\n",
    "    \n",
    "\\begin{equation*}\n",
    "\tb_{t} = \\alpha(Y_{t} - s_{t-m}) + (1 - \\alpha)(b_{t-1} + a_{t-1})\n",
    "\\end{equation*}\n",
    "\n",
    "Then we update the slope:\n",
    "    \n",
    "\\begin{equation*}\n",
    "\ta_{t} = \\beta(b_{t} - b_{t-1}) + (1 - \\beta)a_{t-1}\n",
    "\\end{equation*}\n",
    "\n",
    "Finally, seasonality:\n",
    "    \n",
    "\\begin{equation*}\n",
    "\ts_{t} = \\gamma(Y_{t} - b_{t-1} - a_{t-1}) + (1 - \\gamma)s_{t-m},\n",
    "\\end{equation*}\n",
    "\n",
    "with $\\alpha$, $\\beta$, $\\gamma$ are the smoothing constants, between $0$ et $1$\n",
    "    \n",
    "\n",
    "The method is suitable for univariate time series with trend and/or seasonal components.\n",
    "\n",
    "### Python Code"
   ]
  },
  {
   "cell_type": "code",
   "execution_count": 15,
   "metadata": {
    "scrolled": true,
    "slideshow": {
     "slide_type": "subslide"
    }
   },
   "outputs": [
    {
     "name": "stdout",
     "output_type": "stream",
     "text": [
      "[103.40220658]\n"
     ]
    },
    {
     "name": "stderr",
     "output_type": "stream",
     "text": [
      "C:\\Users\\hp\\Anaconda3\\lib\\site-packages\\statsmodels\\tsa\\holtwinters.py:731: RuntimeWarning: invalid value encountered in greater_equal\n",
      "  loc = initial_p >= ub\n"
     ]
    }
   ],
   "source": [
    "# HWES example\n",
    "from statsmodels.tsa.holtwinters import ExponentialSmoothing\n",
    "\n",
    "# fit model\n",
    "model = ExponentialSmoothing(data)\n",
    "model_fit = model.fit()\n",
    "# make prediction\n",
    "yhat = model_fit.predict(len(data), len(data))\n",
    "print(yhat)"
   ]
  },
  {
   "cell_type": "markdown",
   "metadata": {
    "slideshow": {
     "slide_type": "slide"
    }
   },
   "source": [
    "## Summary\n",
    "\n",
    "In this part, we went through suite of classical time series forecasting methods that you can test and tune on your time series dataset right now. Yet, the list is still long, so, I encourage you to check the list on the further reading down and try to implement them on Python with easy and explainable code. \n",
    "\n",
    "## Further Reading\n",
    "\n",
    "As you have noticed all the linear models were loaded from one library that continues many statistical tools that are very useful for your data work. So, I highly recommend to have a look here https://www.statsmodels.org/, and try to implement these following models:\n",
    "\n",
    "1. Seasonal Autoregressive Integrated Moving-Average with Exogenous Regressors (SARIMAX)\n",
    "2. Vector Autoregression (VAR)\n",
    "3. Vector Autoregression Moving-Average (VARMA)\n",
    "4. Vector Autoregression Moving-Average with Exogenous Regressors (VARMAX)"
   ]
  },
  {
   "attachments": {},
   "cell_type": "markdown",
   "metadata": {
    "slideshow": {
     "slide_type": "fragment"
    }
   },
   "source": [
    "\n",
    "\n",
    "\n",
    "\n",
    "# 3- Machine learning\n",
    "\n",
    "## 3-1 What Is Machine Learning?\n",
    "\n",
    "\n",
    "Machine Learning is the science (and art) of programming computers so they can\n",
    "learn from data.\n",
    "\n",
    "Here is a slightly more general definition:  \n",
    "[Machine Learning is the] field of study that gives computers the ability to learn\n",
    "without being explicitly programmed.  \n",
    "—Arthur Samuel, 1959.\n",
    "\n",
    "And a more engineering-oriented one:  \n",
    "A computer program is said to learn from experience E with respect to some task T and some performance measure P, if its performance on T, as measured by P, improves with experience E.  \n",
    "—Tom Mitchell, 1997.\n",
    "\n",
    "## 3-2 Types of Machine Learning Systems\n",
    "\n",
    "Machine Learning systems can be classified according to the amount and type of supervision they get during training. There are three major categories: supervised learning, unsupervised learning, and reinforcement Learning.\n",
    "\n",
    "<img src=\"207.jpg\" alt=\"Drawing\" style=\"width: 600px;\"/>\n",
    "\n",
    "### Supervised learning\n",
    "\n",
    "In supervised learning, the training data you feed to the algorithm includes the desired\n",
    "solutions, called labels. \n",
    "\n",
    "<img src=\"Supervised_Learning.PNG\" alt=\"Drawing\" style=\"width: 500px;\"/>\n",
    "\n",
    "Here are some of the most important supervised learning algorithms:\n",
    "\n",
    "• k-Nearest Neighbors  \n",
    "• Linear Regression  \n",
    "• Logistic Regression  \n",
    "• Support Vector Machines (SVMs)  \n",
    "• Decision Trees and Random Forests  \n",
    "• Neural networks \n",
    "\n",
    "### Unsupervised learning\n",
    "\n",
    "In unsupervised learning, as you might guess, the training data is unlabeled. The system tries to learn without a teacher.\n",
    "\n",
    "<img src=\"UnSupervised_Learning.PNG\" alt=\"Drawing\" style=\"width: 500px;\"/>\n",
    "\n",
    "Here are some of the most important unsupervised learning algorithms: \n",
    "\n",
    "a. Clustering\n",
    "- k-Means\n",
    "- Hierarchical Cluster Analysis (HCA)\n",
    "- Expectation Maximization  \n",
    "\n",
    "b. Visualization and dimensionality reduction\n",
    "- Principal Component Analysis (PCA)\n",
    "- Kernel PCA\n",
    "- Locally-Linear Embedding (LLE)\n",
    "- t-distributed Stochastic Neighbor Embedding (t-SNE)\n",
    "\n",
    "c. Association rule learning\n",
    "- Apriori\n",
    "- Eclat\n",
    "\n",
    "### Reinforcement Learning\n",
    "\n",
    "Reinforcement Learning is a very different beast. The learning system, called an agent in this context, can observe the environment, select and perform actions, and get rewards in return (or penalties in the form of negative rewards). It must then learn by itself what is the best strategy, called a policy, to get the most reward over time. A policy defines what action \n",
    "the agent should choose when it is in a given situation.\n",
    "\n",
    "\n",
    "<img src=\"Reinforcement_Learning.PNG\" alt=\"Drawing\" style=\"width: 700px;\"/>\n"
   ]
  },
  {
   "cell_type": "markdown",
   "metadata": {
    "slideshow": {
     "slide_type": "fragment"
    }
   },
   "source": [
    "## 3-3 Deep learning for Forecasting time series\n",
    "\n",
    "Deep Learning is a subfield of machine learning concerned with algorithms inspired by the structure and function of the brain called artificial neural networks.\n",
    "\n",
    "Artificial neural networks (ANNs) are a set of calculating units which were firstly inspired by how the biological neuron works in the brain .\n",
    "\n",
    "\n",
    "<img src=\"Neural_Network.jpg\" style=\"width: 500px;\"/>\n",
    "\n",
    "### 3-3-1 Multilayer Perceptron\n",
    "\n",
    "An Multilayer Perceptron (MLP) is composed of one (passthrough) input layer, one or more layers of neurons (units), called hidden layers, and one final layer of neurons called the output layer (see\n",
    "Figure down). Every layer except the output layer includes a bias neuron and is fully\n",
    "connected to the next layer. When an neural network has two or more hidden layers, it is called\n",
    "a deep neural network (DNN).\n",
    "\n",
    "<img src=\"fig-1-1-3.png\" style=\"width: 400px;\"/>\n",
    "\n",
    "The dynamics a MLP with one hidden layer is descriped as the following:\n",
    "\n",
    "\\begin{equation}\n",
    "h_{j}(x) = f\\Big(\\sum_{l=1}^{n_E}\\omega_{jl}^{E}x_{l} + \\omega_{j0}^{E}\\Big)\n",
    "\\end{equation}\n",
    "\\begin{equation}\n",
    "\\hat{y}_{i}(x) = g\\Big(\\sum_{j=1}^{n_C}\\omega_{ij}^{S}h_{j}(x) + \\omega_{i0}^{S}\\Big)\n",
    "\\end{equation}\n",
    "\n",
    "MLPs can be applied to time series forecasting. In this section, we will explore how to develop a MLP model for forecasting the hourly solar irradiance. \n",
    "\n",
    "\n",
    "The challenge with using MLPs for time series forecasting is in the preparation of the data. Specifically, the inputs of the network should be re-framed as a supervised learning.\n",
    "\n",
    "<img src=\"methodENG.png\" style=\"width: 500px;\"/>"
   ]
  },
  {
   "cell_type": "markdown",
   "metadata": {
    "slideshow": {
     "slide_type": "fragment"
    }
   },
   "source": [
    "### 3-3-1 Long Short-Term Memory \n",
    "\n",
    "Long Short Term Memory networks – usually just called “LSTMs” – are capable of learning long-term dependencies. They were introduced by Hochreiter & Schmidhuber (1997), and were refined and popularized by many people, They work tremendously well on a large variety of problems, and are now widely used for time series forecasting.\n",
    "\n",
    "LSTMs are explicitly designed to avoid the long-term dependency problem. Remembering information for long periods of time is practically their default behavior, not something they struggle to learn!\n",
    "\n",
    "<img src=\"LSTM.png\" style=\"width: 500px;\"/>\n",
    "  \n",
    "The equations bellow summarizes how to compute the cell’s long-term state, its short-term\n",
    "state, and its output at each time step for a single instance.\n",
    "\n",
    "<img src=\"LSTM_equations.PNG\" style=\"width: 750px;\"/>\n",
    "\n",
    "### Python code"
   ]
  },
  {
   "cell_type": "code",
   "execution_count": 16,
   "metadata": {
    "slideshow": {
     "slide_type": "slide"
    }
   },
   "outputs": [],
   "source": [
    "# Loading and preparing the data\n",
    "# Hourly Global Solar Irradiance, starting at 8:00 and finishing at 18:00 (11h per day).\n",
    "GHI = pd.read_csv('C:/Users/hp/Desktop/PFE/Data/SodaDara/Rabat/GHI.dat')\n",
    "\n",
    "# Clear Sky Global Solar Irradiance (CS), the same hours as GHI. \n",
    "CS = pd.read_csv('C:/Users/hp/Desktop/PFE/Data/SodaDara/Rabat/CS.dat')"
   ]
  },
  {
   "cell_type": "code",
   "execution_count": 17,
   "metadata": {
    "slideshow": {
     "slide_type": "subslide"
    }
   },
   "outputs": [
    {
     "data": {
      "text/plain": [
       "False"
      ]
     },
     "execution_count": 17,
     "metadata": {},
     "output_type": "execute_result"
    }
   ],
   "source": [
    "# checking if there are zero values on CS\n",
    "0 in CS.values"
   ]
  },
  {
   "cell_type": "code",
   "execution_count": 18,
   "metadata": {
    "slideshow": {
     "slide_type": "subslide"
    }
   },
   "outputs": [],
   "source": [
    "# Clear Sky Indexe \n",
    "k = GHI.values/CS.values"
   ]
  },
  {
   "cell_type": "code",
   "execution_count": 19,
   "metadata": {
    "slideshow": {
     "slide_type": "subslide"
    }
   },
   "outputs": [],
   "source": [
    "# re-framing the data as a supervised learning \n",
    "import numpy as np\n",
    "def time_series_to_supervised_univariate(dataset, start_index, end_index, history_size, target_size):\n",
    "  data = []\n",
    "  labels = []\n",
    "\n",
    "  start_index = start_index + history_size\n",
    "  if end_index is None:\n",
    "    end_index = len(dataset) - target_size\n",
    "\n",
    "  for i in range(start_index, end_index):\n",
    "    indices = range(i-history_size, i)\n",
    "    # Reshape data from (history_size,) to (history_size, 1)\n",
    "    data.append(np.reshape(dataset[indices], (history_size, 1)))\n",
    "    labels.append(dataset[i+target_size])\n",
    "  return np.array(data), np.array(labels)"
   ]
  },
  {
   "cell_type": "code",
   "execution_count": 20,
   "metadata": {
    "slideshow": {
     "slide_type": "subslide"
    }
   },
   "outputs": [],
   "source": [
    "past_history = 8      \n",
    "future_target = 0       \n",
    "TRAIN_SPLIT = 1000               # Leaving 1000 points for validdation\n",
    "\n",
    "X_train, y_train = time_series_to_supervised_univariate(k, 0, None,\n",
    "                                                        past_history,\n",
    "                                                        future_target)\n",
    "X_val, y_val = time_series_to_supervised_univariate(k, TRAIN_SPLIT, None,\n",
    "                                                    past_history,\n",
    "                                                    future_target)"
   ]
  },
  {
   "cell_type": "code",
   "execution_count": 21,
   "metadata": {
    "slideshow": {
     "slide_type": "subslide"
    }
   },
   "outputs": [],
   "source": [
    "def create_time_steps(length):\n",
    "  return list(range(-length, 0))"
   ]
  },
  {
   "cell_type": "code",
   "execution_count": 22,
   "metadata": {
    "slideshow": {
     "slide_type": "subslide"
    }
   },
   "outputs": [],
   "source": [
    "# Tools to plot\n",
    "import matplotlib as mpl\n",
    "import matplotlib.pyplot as plt\n",
    "%matplotlib inline\n",
    "mpl.rcParams['figure.figsize'] = (8, 6)\n",
    "mpl.rcParams['axes.grid'] = False\n",
    "\n",
    "def show_plot(plot_data, delta, title):\n",
    "  labels = ['History', 'True Future', 'Model Prediction']\n",
    "  marker = ['.-', 'X', 'go']\n",
    "  time_steps = create_time_steps(plot_data[0].shape[0])\n",
    "  if delta:\n",
    "    future = delta\n",
    "  else:\n",
    "    future = 0\n",
    "\n",
    "  plt.title(title)\n",
    "  for i, x in enumerate(plot_data):\n",
    "    if i:\n",
    "      plt.plot(future, plot_data[i], marker[i], markersize=10,\n",
    "               label=labels[i])\n",
    "    else:\n",
    "      plt.plot(time_steps, plot_data[i].flatten(), marker[i], label=labels[i])\n",
    "  plt.legend()\n",
    "  plt.xlim([time_steps[0], (future+5)*2])\n",
    "  plt.xlabel('Time-Step')\n",
    "  return plt"
   ]
  },
  {
   "cell_type": "code",
   "execution_count": 23,
   "metadata": {
    "slideshow": {
     "slide_type": "subslide"
    }
   },
   "outputs": [],
   "source": [
    "def baseline(history):\n",
    "  return np.mean(history)"
   ]
  },
  {
   "cell_type": "code",
   "execution_count": 24,
   "metadata": {
    "slideshow": {
     "slide_type": "subslide"
    }
   },
   "outputs": [
    {
     "data": {
      "text/plain": [
       "<module 'matplotlib.pyplot' from 'C:\\\\Users\\\\hp\\\\Anaconda3\\\\lib\\\\site-packages\\\\matplotlib\\\\pyplot.py'>"
      ]
     },
     "execution_count": 24,
     "metadata": {},
     "output_type": "execute_result"
    },
    {
     "data": {
      "image/png": "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\n",
      "text/plain": [
       "<Figure size 576x432 with 1 Axes>"
      ]
     },
     "metadata": {
      "needs_background": "light"
     },
     "output_type": "display_data"
    }
   ],
   "source": [
    "show_plot([X_train[10], y_train[10], baseline(X_train[10])], 0,\n",
    "           'Baseline Prediction Example')"
   ]
  },
  {
   "cell_type": "code",
   "execution_count": 25,
   "metadata": {
    "scrolled": true,
    "slideshow": {
     "slide_type": "subslide"
    }
   },
   "outputs": [
    {
     "name": "stdout",
     "output_type": "stream",
     "text": [
      "Model: \"model\"\n",
      "_________________________________________________________________\n",
      "Layer (type)                 Output Shape              Param #   \n",
      "=================================================================\n",
      "Train_data (InputLayer)      [(None, 8, 1)]            0         \n",
      "_________________________________________________________________\n",
      "lstm (LSTM)                  (None, 10)                480       \n",
      "_________________________________________________________________\n",
      "predictions (Dense)          (None, 1)                 11        \n",
      "=================================================================\n",
      "Total params: 491\n",
      "Trainable params: 491\n",
      "Non-trainable params: 0\n",
      "_________________________________________________________________\n"
     ]
    }
   ],
   "source": [
    "# Now we build our LSTM model \n",
    "import tensorflow as tf\n",
    "from tensorflow import keras\n",
    "from tensorflow.keras import layers\n",
    "\n",
    "inputs = keras.Input(shape=X_train.shape[-2:], name='Train_data')\n",
    "x = layers.LSTM(10)(inputs)\n",
    "outputs = layers.Dense(1, name='predictions')(x)\n",
    "\n",
    "model = keras.Model(inputs=inputs, outputs=outputs)\n",
    "\n",
    "model.compile(optimizer='adam', loss='mse')\n",
    "model.summary()"
   ]
  },
  {
   "cell_type": "code",
   "execution_count": 26,
   "metadata": {
    "scrolled": true,
    "slideshow": {
     "slide_type": "subslide"
    }
   },
   "outputs": [
    {
     "name": "stdout",
     "output_type": "stream",
     "text": [
      "Train on 16063 samples, validate on 15063 samples\n",
      "Epoch 1/10\n",
      "16063/16063 [==============================] - 11s 661us/sample - loss: 0.1310 - val_loss: 0.0377\n",
      "Epoch 2/10\n",
      "16063/16063 [==============================] - 6s 348us/sample - loss: 0.0334 - val_loss: 0.0307\n",
      "Epoch 3/10\n",
      "16063/16063 [==============================] - 6s 345us/sample - loss: 0.0281 - val_loss: 0.0265\n",
      "Epoch 4/10\n",
      "16063/16063 [==============================] - 5s 338us/sample - loss: 0.0248 - val_loss: 0.0244\n",
      "Epoch 5/10\n",
      "16063/16063 [==============================] - 5s 317us/sample - loss: 0.0233 - val_loss: 0.0231\n",
      "Epoch 6/10\n",
      "16063/16063 [==============================] - 5s 307us/sample - loss: 0.0223 - val_loss: 0.0223\n",
      "Epoch 7/10\n",
      "16063/16063 [==============================] - 5s 304us/sample - loss: 0.0216 - val_loss: 0.0217\n",
      "Epoch 8/10\n",
      "16063/16063 [==============================] - 5s 337us/sample - loss: 0.0212 - val_loss: 0.0218\n",
      "Epoch 9/10\n",
      "16063/16063 [==============================] - 6s 382us/sample - loss: 0.0209 - val_loss: 0.0215\n",
      "Epoch 10/10\n",
      "16063/16063 [==============================] - 6s 351us/sample - loss: 0.0208 - val_loss: 0.0214\n"
     ]
    }
   ],
   "source": [
    "# Now we train the model for 10 epochs\n",
    "EPOCHS = 10\n",
    "history = model.fit(X_train, y_train, epochs=EPOCHS, validation_data=(X_val, y_val))"
   ]
  },
  {
   "cell_type": "code",
   "execution_count": 27,
   "metadata": {
    "slideshow": {
     "slide_type": "subslide"
    }
   },
   "outputs": [],
   "source": [
    "def plot_train_history(history, title):\n",
    "  loss = history.history['loss']\n",
    "  val_loss = history.history['val_loss']\n",
    "\n",
    "  epochs = range(len(loss))\n",
    "\n",
    "  plt.figure()\n",
    "\n",
    "  plt.plot(epochs, loss, 'b', label='Training loss')\n",
    "  plt.plot(epochs, val_loss, 'r', label='Validation loss')\n",
    "  plt.title(title)\n",
    "  plt.legend()\n",
    "\n",
    "  plt.show()"
   ]
  },
  {
   "cell_type": "code",
   "execution_count": 28,
   "metadata": {
    "scrolled": true
   },
   "outputs": [
    {
     "data": {
      "image/png": "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\n",
      "text/plain": [
       "<Figure size 576x432 with 1 Axes>"
      ]
     },
     "metadata": {
      "needs_background": "light"
     },
     "output_type": "display_data"
    }
   ],
   "source": [
    "plot_train_history(history, 'Training and validation loss')"
   ]
  },
  {
   "cell_type": "code",
   "execution_count": 29,
   "metadata": {
    "slideshow": {
     "slide_type": "subslide"
    }
   },
   "outputs": [
    {
     "data": {
      "image/png": "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\n",
      "text/plain": [
       "<Figure size 576x432 with 1 Axes>"
      ]
     },
     "metadata": {
      "needs_background": "light"
     },
     "output_type": "display_data"
    },
    {
     "data": {
      "image/png": "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\n",
      "text/plain": [
       "<Figure size 576x432 with 1 Axes>"
      ]
     },
     "metadata": {
      "needs_background": "light"
     },
     "output_type": "display_data"
    },
    {
     "data": {
      "image/png": "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\n",
      "text/plain": [
       "<Figure size 576x432 with 1 Axes>"
      ]
     },
     "metadata": {
      "needs_background": "light"
     },
     "output_type": "display_data"
    }
   ],
   "source": [
    "# Forecasting using our Model\n",
    "for i in range(3):\n",
    "  plot = show_plot([X_val[i], y_val[i],\n",
    "                    model.predict(X_val[i].reshape((1,past_history, 1)))],\n",
    "                   0,\n",
    "                   'Simple LSTM forecasting')\n",
    "  plot.show()"
   ]
  },
  {
   "cell_type": "markdown",
   "metadata": {
    "slideshow": {
     "slide_type": "slide"
    }
   },
   "source": [
    "\n",
    "# 4 Results and conclusion \n",
    "\n",
    "<img src=\"results.png\" style=\"width: 80000px;\"/>"
   ]
  },
  {
   "cell_type": "markdown",
   "metadata": {},
   "source": [
    "# Appendix\n",
    "\n",
    "This checklist can guide you through your Machine Learning projects. There are eight main steps:\n",
    "1. Frame the problem and look at the big picture.\n",
    "2. Get the data.\n",
    "3. Explore the data to gain insights.\n",
    "4. Prepare the data to better expose the underlying data patterns to Machine Learning algorithms.\n",
    "5. Explore many different models and short-list the best ones.\n",
    "6. Fine-tune your models and combine them into a great solution.\n",
    "7. Present your solution.\n",
    "8. Launch, monitor, and maintain your system.\n",
    "\n",
    "Obviously, you should feel free to adapt this checklist to your needs.\n",
    "\n",
    "For more details on the check list check the book of Aurélien Géron : \"Hands-On Machine Learning with Scikit-Learn & TensorFlow, CONCEPTS, TOOLS, AND TECHNIQUES TO BUILD INTELLIGENT SYSTEMS\"\n",
    "\n",
    "Also for understaning the training phase in LSTMs check the appendix in the original paper : “Long Short-Term Memory,” S. Hochreiter and J. Schmidhuber (1997).\n"
   ]
  },
  {
   "cell_type": "markdown",
   "metadata": {},
   "source": [
    "# References \n",
    "Hamid Ettayyebi, Khalid El Himdi, \"Artificial Neural Network for Forecasting One Day Ahead of Global Solar Irradiance\" (May 29, 2018). Smart Application and Data Analysis for Smart Cities (SADASC'18).\n",
    "\n",
    "Hamid Ettayyebi, Khalid El Himdi, \"Artificial neural networks for forecasting the 24 hours ahead of global solar irradiance\", AIP Conference Proceedings, volume: 2056, 2018. doi: 10.1063/1.5084983."
    "\n",
    "The website for data science competitions: https://www.kaggle.com/"
   ]
  }
 ],
 "metadata": {
  "kernelspec": {
   "display_name": "Python 3",
   "language": "python",
   "name": "python3"
  },
  "language_info": {
   "codemirror_mode": {
    "name": "ipython",
    "version": 3
   },
   "file_extension": ".py",
   "mimetype": "text/x-python",
   "name": "python",
   "nbconvert_exporter": "python",
   "pygments_lexer": "ipython3",
   "version": "3.6.4"
  }
 },
 "nbformat": 4,
 "nbformat_minor": 2
}
